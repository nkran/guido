{
 "cells": [
  {
   "cell_type": "code",
   "execution_count": 3,
   "metadata": {},
   "outputs": [],
   "source": [
    "import guido\n",
    "\n",
    "# Create guido genome\n",
    "genome = guido.Genome(genome_name='AgamP4_VB', \n",
    "                      genome_file_abspath='/Users/nkranjc/imperial/guide_tool/guido/tests/data/AgamP4.fa',\n",
    "                      annotation_file_abspath='/Users/nkranjc/imperial/guide_tool/guido/tests/data/AgamP4.12.gtf')\n"
   ]
  },
  {
   "cell_type": "code",
   "execution_count": 3,
   "metadata": {},
   "outputs": [
    {
     "name": "stdout",
     "output_type": "stream",
     "text": [
      "Indexing genome annotation.\n",
      "Building Bowtie index\n",
      "Done: /Users/nkranjc/imperial/guide_tool/guido/tests/data/AgamP4_VB\n",
      "AgamP4_VB genome data can now be used by Guido: /Users/nkranjc/imperial/guide_tool/guido/tests/data/AgamP4_VB.guido\n"
     ]
    }
   ],
   "source": [
    "genome.build(bowtie_path='/Users/nkranjc/imperial/guide_tool/guido/bin/bowtie/')"
   ]
  },
  {
   "cell_type": "markdown",
   "metadata": {},
   "source": [
    "Guido genome file is now created in the same location as referenced genome FASTA file."
   ]
  },
  {
   "cell_type": "code",
   "execution_count": 4,
   "metadata": {},
   "outputs": [
    {
     "data": {
      "text/plain": [
       "{'genome_name': 'AgamP4_VB',\n",
       " '_bowtie_ignore': False,\n",
       " 'bowtie_index': None,\n",
       " 'genome_file_abspath': PosixPath('/Users/nkranjc/imperial/guide_tool/guido/tests/data/AgamP4.fa'),\n",
       " 'annotation_file_abspath': PosixPath('/Users/nkranjc/imperial/guide_tool/guido/tests/data/AgamP4.12.gtf')}"
      ]
     },
     "execution_count": 4,
     "metadata": {},
     "output_type": "execute_result"
    }
   ],
   "source": [
    "genome.__dict__"
   ]
  },
  {
   "cell_type": "markdown",
   "metadata": {},
   "source": [
    "`genome` can be used now to search for gRNAs. We can also use it next time without needing to build the genome again by calling `load_genome_from_file()` function."
   ]
  },
  {
   "cell_type": "code",
   "execution_count": 5,
   "metadata": {},
   "outputs": [],
   "source": [
    "import guido\n",
    "genome = guido.load_genome_from_file(guido_file='/Users/nkranjc/imperial/ref/new/AgamP4.guido')"
   ]
  },
  {
   "cell_type": "markdown",
   "metadata": {},
   "source": [
    "To search gRNAs a locus needs to be defined either by chromosomal location or by gene name."
   ]
  },
  {
   "cell_type": "code",
   "execution_count": 6,
   "metadata": {},
   "outputs": [
    {
     "data": {
      "text/plain": [
       "[gRNA-1(AAGTTTATCATCCACTCTGACGG|AgamP4_2R:48714550-48714572|+|),\n",
       " gRNA-2(CGCAATACCACCCGTCAGAGTGG|AgamP4_2R:48714561-48714583|-|),\n",
       " gRNA-3(AGTTTATCATCCACTCTGACGGG|AgamP4_2R:48714551-48714573|+|),\n",
       " gRNA-4(TTATCATCCACTCTGACGGGTGG|AgamP4_2R:48714554-48714576|+|),\n",
       " gRNA-5(TCTGAACATGTTTGATGGCGTGG|AgamP4_2R:48714589-48714611|-|),\n",
       " gRNA-6(CATAATCTGAACATGTTTGATGG|AgamP4_2R:48714594-48714616|-|),\n",
       " gRNA-7(GTTTAACACAGGTCAAGCGGTGG|AgamP4_2R:48714637-48714659|-|),\n",
       " gRNA-8(TATGTTTAACACAGGTCAAGCGG|AgamP4_2R:48714640-48714662|-|)]"
      ]
     },
     "execution_count": 6,
     "metadata": {},
     "output_type": "execute_result"
    }
   ],
   "source": [
    "l = guido.locus_from_coordinates(genome, 'AgamP4_2R', 48714541, 48714666)\n",
    "l.find_guides()"
   ]
  },
  {
   "cell_type": "code",
   "execution_count": 7,
   "metadata": {},
   "outputs": [
    {
     "data": {
      "text/plain": [
       "[gRNA-1(AAGTTTATCATCCACTCTGACGG|AgamP4_2R:48714550-48714572|+|),\n",
       " gRNA-2(CGCAATACCACCCGTCAGAGTGG|AgamP4_2R:48714561-48714583|-|),\n",
       " gRNA-3(AGTTTATCATCCACTCTGACGGG|AgamP4_2R:48714551-48714573|+|),\n",
       " gRNA-4(TTATCATCCACTCTGACGGGTGG|AgamP4_2R:48714554-48714576|+|),\n",
       " gRNA-5(TCTGAACATGTTTGATGGCGTGG|AgamP4_2R:48714589-48714611|-|),\n",
       " gRNA-6(CATAATCTGAACATGTTTGATGG|AgamP4_2R:48714594-48714616|-|)]"
      ]
     },
     "execution_count": 7,
     "metadata": {},
     "output_type": "execute_result"
    }
   ],
   "source": [
    "l.find_guides(selected_features='exon')"
   ]
  },
  {
   "cell_type": "code",
   "execution_count": null,
   "metadata": {},
   "outputs": [],
   "source": [
    "l.find_guides()"
   ]
  },
  {
   "cell_type": "markdown",
   "metadata": {},
   "source": [
    "To define locus by gene name we can use `guido.locus_from_gene()` function."
   ]
  },
  {
   "cell_type": "code",
   "execution_count": 9,
   "metadata": {},
   "outputs": [
    {
     "data": {
      "text/plain": [
       ">AgamP4_2L:24049834-24051517\n",
       "TCCAGTCCAAGGTAGTCAGTATCACAGAATCCACCAGGCTCTGTGAGCCACGCGTGGGCACGGGGTGGTCAGGTTTGTGTCTCAGTGTCAGTGTAGTCGTGTAGTCAGTAGTGCGTCAGTCCCTCCCCGATGAGAGATGCTTAGTAACAATCATCGTCACACTCCTTGCAAACGTACTTCAACCGGGACGAGGCGCCACCAACGCCGCACGTGTTGTTGAGAAAATCGCTCAAGTTCGACGACAGCGACAGTAGATGCTCGTTCTTGCCCACGACCACGTGCGTCGACAGCCGGCACTCGTCCGCGTTCTGAATCAGCTCAAAGTTACACTCCCTGTACGGCTGATCGCTGTCCCAGAGGTACAGCTCGGCCTCGCCACGGTACCGCAGCACCACCCCCTTGCCACCGTCCGTGCCGAGCAGGACGGAGTGTTTGCGCTTGGTGCCGAGCTCGACGATCGCGCTCGAACCCTTGCCGCTGCGCAGATGTTCCGACTTGATCGAGTAAACCTTCTGGCCGCACAGATAGCTGAAGATCACCAGGCTCTGGCCCTTCGGTTTCGGGATGAGCAGCAGGTAGAGCACGTCCGAATCGCCGCAGCCAGCCGAGATGGCACGCGGTAGCACCACGCGGAAGCTCTTGTTGTTGTTCACGTCCAGCACAATGATTGCACCATCGCCATCGGAAATGTAGCTGCAAGTTGGGAGATCGTTAGCATCACGCACGTGATTTTACTTTGCATGCTTTACCCAACACAATACTTACACAAACGGATGGCCGAGCTCGTTGTAATCAGTGACGAGATACTGGAGCCGCGAGCTGGATTTCACAATCTCCGACAGGTCGATCGTCTTGACCGTCTTGTCGTTGCTCAAGTTGAAGGCATACACCTTCGGCGGGCAGCGCTTGATCGGTTGCTCCAGGAAGTTGGTGATGCCCGAGTCCAGCACCCACGCGATGCGCTGCAAGGAAAGAGACGACACGTTAGCATGTTTTCATCCTACCGCAAAAGCACGGTGGCCACGGTAACACAACAACGTACCTTCACATCCACGTACAGATCGATGACGGATTGGAGCGAGTTGCAATTGCCCTCCTCCTGATAGGCCCAGCAAGGGTACGGCTTAATGTGCGCGTAGCAGTTCGGTTTGTTCAGATCGATCTGCCCAAGCGTGGTAGGAACGCCCGAGCGCAATCTTGGCAGTGCCATCAGCATGCGTTGATTGTCGTACTGGCACCGCACCGGCATCACATTGCGTGGCTGGTAGCGATGTGCGGAGATGTAGATGTTCTTGGTCGAAAGGCAGGGAAAGTCGATCGAATTGCCATTGATCCGGTACACGATGTTGCAGTACTCGAGATCGTCCGTGCTAGCGAGCGCGGACACCAGCACAAACAGCAGGGCAAGCGGTAGCCCCGTCACGCGGCAACTCATCGTGTTCTGTGCGTTCGTTTATCCCCAGCGCCAACACAAACCCGTGATCCACAACGAAGAACAAACGCGCTGGAACGCTGTTGCGTTACTGTCCTCAGAGAACTGATAGCTGAAGAAGCACTCACCAGTCCATATATACCAGGGCGGAGTTGGCAGCTGCACGTACGTATTCGGATGGGGGTTAGTTTTGGTTTTCGGCGTCCTCGACTGTTCCACCGGTGCGGTACGTGCATTTGGTGGCGATTGTTT"
      ]
     },
     "execution_count": 9,
     "metadata": {},
     "output_type": "execute_result"
    }
   ],
   "source": [
    "l = guido.locus_from_gene(genome, 'AGAP005958')\n",
    "\n",
    "l.sequence"
   ]
  },
  {
   "cell_type": "code",
   "execution_count": 10,
   "metadata": {},
   "outputs": [
    {
     "data": {
      "text/plain": [
       "'TCCAGTCCAAGGTAGTCAGTATCACAGAATCCACCAGGCTCTGTGAGCCACGCGTGGGCACGGGGTGGTCAGGTTTGTGTCTCAGTGTCAGTGTAGTCGTGTAGTCAGTAGTGCGTCAGTCCCTCCCCGATGAGAGATGCTTAGTAACAATCATCGTCACACTCCTTGCAAACGTACTTCAACCGGGACGAGGCGCCACCAACGCCGCACGTGTTGTTGAGAAAATCGCTCAAGTTCGACGACAGCGACAGTAGATGCTCGTTCTTGCCCACGACCACGTGCGTCGACAGCCGGCACTCGTCCGCGTTCTGAATCAGCTCAAAGTTACACTCCCTGTACGGCTGATCGCTGTCCCAGAGGTACAGCTCGGCCTCGCCACGGTACCGCAGCACCACCCCCTTGCCACCGTCCGTGCCGAGCAGGACGGAGTGTTTGCGCTTGGTGCCGAGCTCGACGATCGCGCTCGAACCCTTGCCGCTGCGCAGATGTTCCGACTTGATCGAGTAAACCTTCTGGCCGCACAGATAGCTGAAGATCACCAGGCTCTGGCCCTTCGGTTTCGGGATGAGCAGCAGGTAGAGCACGTCCGAATCGCCGCAGCCAGCCGAGATGGCACGCGGTAGCACCACGCGGAAGCTCTTGTTGTTGTTCACGTCCAGCACAATGATTGCACCATCGCCATCGGAAATGTAGCTGCAAGTTGGGAGATCGTTAGCATCACGCACGTGATTTTACTTTGCATGCTTTACCCAACACAATACTTACACAAACGGATGGCCGAGCTCGTTGTAATCAGTGACGAGATACTGGAGCCGCGAGCTGGATTTCACAATCTCCGACAGGTCGATCGTCTTGACCGTCTTGTCGTTGCTCAAGTTGAAGGCATACACCTTCGGCGGGCAGCGCTTGATCGGTTGCTCCAGGAAGTTGGTGATGCCCGAGTCCAGCACCCACGCGATGCGCTGCAAGGAAAGAGACGACACGTTAGCATGTTTTCATCCTACCGCAAAAGCACGGTGGCCACGGTAACACAACAACGTACCTTCACATCCACGTACAGATCGATGACGGATTGGAGCGAGTTGCAATTGCCCTCCTCCTGATAGGCCCAGCAAGGGTACGGCTTAATGTGCGCGTAGCAGTTCGGTTTGTTCAGATCGATCTGCCCAAGCGTGGTAGGAACGCCCGAGCGCAATCTTGGCAGTGCCATCAGCATGCGTTGATTGTCGTACTGGCACCGCACCGGCATCACATTGCGTGGCTGGTAGCGATGTGCGGAGATGTAGATGTTCTTGGTCGAAAGGCAGGGAAAGTCGATCGAATTGCCATTGATCCGGTACACGATGTTGCAGTACTCGAGATCGTCCGTGCTAGCGAGCGCGGACACCAGCACAAACAGCAGGGCAAGCGGTAGCCCCGTCACGCGGCAACTCATCGTGTTCTGTGCGTTCGTTTATCCCCAGCGCCAACACAAACCCGTGATCCACAACGAAGAACAAACGCGCTGGAACGCTGTTGCGTTACTGTCCTCAGAGAACTGATAGCTGAAGAAGCACTCACCAGTCCATATATACCAGGGCGGAGTTGGCAGCTGCACGTACGTATTCGGATGGGGGTTAGTTTTGGTTTTCGGCGTCCTCGACTGTTCCACCGGTGCGGTACGTGCATTTGGTGGCGATTGTTT'"
      ]
     },
     "execution_count": 10,
     "metadata": {},
     "output_type": "execute_result"
    }
   ],
   "source": [
    "l.sequence.seq"
   ]
  },
  {
   "cell_type": "markdown",
   "metadata": {},
   "source": [
    "Guido can simulate end-joining and predict MMEJ deletion profiles, which can be leveraged when planning a CRISPR-Cas9 experiment to avoid in- or out-of-frame deletions.\n",
    "\n",
    "MMEJ can be predicted for each gRNA in a locus by using `l.simulate_end_joining()`."
   ]
  },
  {
   "cell_type": "code",
   "execution_count": 13,
   "metadata": {},
   "outputs": [],
   "source": [
    "l.simulate_end_joining()"
   ]
  },
  {
   "cell_type": "markdown",
   "metadata": {},
   "source": [
    "Individual gRNA's MMEJ patterns can be accessed through `mmej_patterns` property of a `Guide` object in `l.guides`."
   ]
  },
  {
   "cell_type": "code",
   "execution_count": 14,
   "metadata": {},
   "outputs": [
    {
     "data": {
      "text/plain": [
       "[{'left': 'TCCAGTCCAAGGTAGTCAGTATCACAGAATCCACCAGGCTCTGTGA-----',\n",
       "  'left_seq': 'TCCAGTCCAAGGTAGTCAGTATCACAGAATCCACCAGGCTCTGTGA',\n",
       "  'left_seq_position': 46,\n",
       "  'right': 'GCGTGGGCACGGGGTGGTCAGGTTTGTGTCTCAGTGTCAGTGTAGTCGTGTAGTCAGTAGTGCGTCAGTCCCTCC',\n",
       "  'right_seq': 'GCGTGGGCACGGGGTGGTCAGGTTTGTGTCTCAGTGTCAGTGTAGTCGTGTAGTCAGTAGTGCGTCAGTCCCTCC',\n",
       "  'right_seq_position': 5,\n",
       "  'pattern': 'GC',\n",
       "  'pattern_len': 2,\n",
       "  'pattern_score': 311.6,\n",
       "  'deletion_seq': 'GCCAC',\n",
       "  'frame_shift': '+'},\n",
       " {'left': 'TCCAGTCCAAGGTAGTCAGTATCACAGAATCCACCAGGCTCTGTGAGC---',\n",
       "  'left_seq': 'TCCAGTCCAAGGTAGTCAGTATCACAGAATCCACCAGGCTCTGTGAGC',\n",
       "  'left_seq_position': 48,\n",
       "  'right': '+++++++CACGGGGTGGTCAGGTTTGTGTCTCAGTGTCAGTGTAGTCGTGTAGTCAGTAGTGCGTCAGTCCCTCC',\n",
       "  'right_seq': 'CACGGGGTGGTCAGGTTTGTGTCTCAGTGTCAGTGTAGTCGTGTAGTCAGTAGTGCGTCAGTCCCTCC',\n",
       "  'right_seq_position': 17,\n",
       "  'pattern': 'CAC',\n",
       "  'pattern_len': 3,\n",
       "  'pattern_score': 303.5,\n",
       "  'deletion_seq': 'CACGCGTGGG',\n",
       "  'frame_shift': '+'},\n",
       " {'left': 'TCCAGTCCAAGGTAGTCAGTATCACAGAATCCACCAGGCTCT---------',\n",
       "  'left_seq': 'TCCAGTCCAAGGTAGTCAGTATCACAGAATCCACCAGGCTCT',\n",
       "  'left_seq_position': 42,\n",
       "  'right': '++GTGGGCACGGGGTGGTCAGGTTTGTGTCTCAGTGTCAGTGTAGTCGTGTAGTCAGTAGTGCGTCAGTCCCTCC',\n",
       "  'right_seq': 'GTGGGCACGGGGTGGTCAGGTTTGTGTCTCAGTGTCAGTGTAGTCGTGTAGTCAGTAGTGCGTCAGTCCCTCC',\n",
       "  'right_seq_position': 13,\n",
       "  'pattern': 'GTG',\n",
       "  'pattern_len': 3,\n",
       "  'pattern_score': 288.5,\n",
       "  'deletion_seq': 'GTGAGCCACGC',\n",
       "  'frame_shift': '+'},\n",
       " {'left': 'TCCAGTCCAAGGTAGTCAGTATCACAGAATCCACCAGGCTCTGTGA-----',\n",
       "  'left_seq': 'TCCAGTCCAAGGTAGTCAGTATCACAGAATCCACCAGGCTCTGTGA',\n",
       "  'left_seq_position': 46,\n",
       "  'right': '++++++GCACGGGGTGGTCAGGTTTGTGTCTCAGTGTCAGTGTAGTCGTGTAGTCAGTAGTGCGTCAGTCCCTCC',\n",
       "  'right_seq': 'GCACGGGGTGGTCAGGTTTGTGTCTCAGTGTCAGTGTAGTCGTGTAGTCAGTAGTGCGTCAGTCCCTCC',\n",
       "  'right_seq_position': 17,\n",
       "  'pattern': 'GC',\n",
       "  'pattern_len': 2,\n",
       "  'pattern_score': 230.79999999999998,\n",
       "  'deletion_seq': 'GCCACGCGTGG',\n",
       "  'frame_shift': '+'},\n",
       " {'left': 'TCCAGTCCAAGGTAGTCAGTATCACAGAATCCACCA---------------',\n",
       "  'left_seq': 'TCCAGTCCAAGGTAGTCAGTATCACAGAATCCACCA',\n",
       "  'left_seq_position': 36,\n",
       "  'right': '+++++GGCACGGGGTGGTCAGGTTTGTGTCTCAGTGTCAGTGTAGTCGTGTAGTCAGTAGTGCGTCAGTCCCTCC',\n",
       "  'right_seq': 'GGCACGGGGTGGTCAGGTTTGTGTCTCAGTGTCAGTGTAGTCGTGTAGTCAGTAGTGCGTCAGTCCCTCC',\n",
       "  'right_seq_position': 25,\n",
       "  'pattern': 'GGC',\n",
       "  'pattern_len': 3,\n",
       "  'pattern_score': 220.79999999999998,\n",
       "  'deletion_seq': 'GGCTCTGTGAGCCACGCGTG',\n",
       "  'frame_shift': '+'}]"
      ]
     },
     "execution_count": 14,
     "metadata": {},
     "output_type": "execute_result"
    }
   ],
   "source": [
    "l.guide(5).mmej_patterns"
   ]
  },
  {
   "cell_type": "markdown",
   "metadata": {},
   "source": [
    "Each predicted MMEJ deletion has a score that is based on Bae et al. 2014 scoring (https://doi.org/10.1038/nmeth.3015) and indicates the propensity for the deletion in vivo.\n",
    "\n",
    "We can visualise predicted MMEJ deletion profiles for gRNA-6, together with microhomologous pattern, score and whether a deletion produces frame shift (+) or not (-) based on deletion length."
   ]
  },
  {
   "cell_type": "code",
   "execution_count": 15,
   "metadata": {},
   "outputs": [
    {
     "name": "stdout",
     "output_type": "stream",
     "text": [
      "gRNA-6\n",
      "TCCAGTCCAAGGTAGTCAGTATCACAGAATCCACCAGGCTCTGTGA-----GCGTGGGCACGGGGTGGTCAGGTTTGTGTCTCAGTGTCAGTGTAGTCGTGTAGTCAGTAGTGCGTCAGTCCCTCC\t\tGC\t\t312\t\t+ (5)\n",
      "TCCAGTCCAAGGTAGTCAGTATCACAGAATCCACCAGGCTCTGTGAGC---+++++++CACGGGGTGGTCAGGTTTGTGTCTCAGTGTCAGTGTAGTCGTGTAGTCAGTAGTGCGTCAGTCCCTCC\t\tCAC\t\t304\t\t+ (10)\n",
      "TCCAGTCCAAGGTAGTCAGTATCACAGAATCCACCAGGCTCT---------++GTGGGCACGGGGTGGTCAGGTTTGTGTCTCAGTGTCAGTGTAGTCGTGTAGTCAGTAGTGCGTCAGTCCCTCC\t\tGTG\t\t288\t\t+ (11)\n",
      "TCCAGTCCAAGGTAGTCAGTATCACAGAATCCACCAGGCTCTGTGA-----++++++GCACGGGGTGGTCAGGTTTGTGTCTCAGTGTCAGTGTAGTCGTGTAGTCAGTAGTGCGTCAGTCCCTCC\t\tGC\t\t231\t\t+ (11)\n",
      "TCCAGTCCAAGGTAGTCAGTATCACAGAATCCACCA---------------+++++GGCACGGGGTGGTCAGGTTTGTGTCTCAGTGTCAGTGTAGTCGTGTAGTCAGTAGTGCGTCAGTCCCTCC\t\tGGC\t\t221\t\t+ (20)\n"
     ]
    }
   ],
   "source": [
    "print(l.guide(5).id)\n",
    "\n",
    "for mp in l.guide(5).mmej_patterns:\n",
    "    deletion = f\"{mp['left']}{mp['right']}\\t\\t{mp['pattern']}\\t\\t{round(mp['pattern_score'])}\\t\\t{mp['frame_shift']} ({len(mp['deletion_seq'])})\"\n",
    "    print(deletion)"
   ]
  },
  {
   "cell_type": "markdown",
   "metadata": {},
   "source": [
    "To find potential off-targets for each gRNA in silico you can use `l.find_off_targets()` function."
   ]
  },
  {
   "cell_type": "code",
   "execution_count": null,
   "metadata": {},
   "outputs": [],
   "source": [
    "l.find_off_targets(bowtie_path='/Users/nkranjc/imperial/guide_tool/guido/bin/bowtie/')"
   ]
  },
  {
   "cell_type": "markdown",
   "metadata": {},
   "source": [
    "A dictionary with a list of off-targets is returned for each gRNA. Each off-target contains information about mismatches between the off-target and gRNA sequence and the genomic location of the off-target."
   ]
  },
  {
   "cell_type": "markdown",
   "metadata": {},
   "source": [
    "To run example full analysis from start to finish, please run the script below. Please note that you have to download the conservation score from the repository where it is stored [https://github.com/nkran/AgamP4_conservation_score](https://github.com/nkran/AgamP4_conservation_score) and to set the correct path to the H5 file in the script below. Same goes for your local `bowtie` dependency path.\n"
   ]
  },
  {
   "cell_type": "code",
   "execution_count": 23,
   "metadata": {},
   "outputs": [],
   "source": [
    "import h5py\n",
    "import numpy as np\n",
    "\n",
    "# load genome\n",
    "G = guido.load_genome_from_file('/Users/nkranjc/imperial/ref/new/AgamP4.guido')\n",
    "\n",
    "# create locus\n",
    "l = guido.locus_from_gene(G, \"AGAP011377\")\n",
    "\n",
    "# find guides in the exons of the gene\n",
    "l.find_guides(min_flanking_length=0, selected_features={'exon'})\n",
    "\n",
    "# simulate end joining\n",
    "l.simulate_end_joining()\n",
    "\n",
    "# get azimuth score\n",
    "l.add_azimuth_score()\n",
    "\n",
    "# get off-targets\n",
    "off_targets = l.find_off_targets(bowtie_path='/Users/nkranjc/imperial/guide_tool/guido/bin/bowtie/')\n",
    "\n",
    "# get conservation score\n",
    "with h5py.File('/Users/nkranjc/imperial/conservation/data/AgamP4_conservation.h5', mode='r+') as data_h5:\n",
    "    cs =          data_h5[l.chromosome.split('_')[1]]['Cs'][0,l.start-1:l.end]\n",
    "\n",
    "# add conservation score to a layer of the locus\n",
    "l.add_layer('cs', layer_data=np.array(cs))\n",
    "\n",
    "rank = l.rank_guides(layer_names=['mmej_sum_score', 'mmej_oof_score', 'azimuth_score', 'ot_sum_score', 'ot_cfd_score_mean', 'ot_cfd_score_max', 'ot_cfd_score_sum', 'cs'],\\\n",
    "                      layer_is_benefit=[True, True, True, False, True, True, True, True])\n"
   ]
  },
  {
   "cell_type": "markdown",
   "metadata": {},
   "source": [
    "Export guides to BED file and export sorted list of guides and their data to CSV"
   ]
  },
  {
   "cell_type": "code",
   "execution_count": 26,
   "metadata": {},
   "outputs": [],
   "source": [
    "l.guides_to_bed('/Users/nkranjc/imperial/guide_tool/output/AGAP011377-exons-guides.bed')\n",
    "l.guides_to_dataframe().sort_values('rank').to_csv('/Users/nkranjc/imperial/guide_tool/output/AGAP011377-exons-guides.csv')"
   ]
  }
 ],
 "metadata": {
  "kernelspec": {
   "display_name": "guido-PpkMPd0z-py3.9",
   "language": "python",
   "name": "python3"
  },
  "language_info": {
   "codemirror_mode": {
    "name": "ipython",
    "version": 3
   },
   "file_extension": ".py",
   "mimetype": "text/x-python",
   "name": "python",
   "nbconvert_exporter": "python",
   "pygments_lexer": "ipython3",
   "version": "3.9.12"
  },
  "orig_nbformat": 4,
  "vscode": {
   "interpreter": {
    "hash": "21a410f3fdec893400ef47e3815b0f45e99a3190d16ad25bca33b52f1db3460b"
   }
  }
 },
 "nbformat": 4,
 "nbformat_minor": 2
}
