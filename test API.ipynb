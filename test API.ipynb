{
 "cells": [
  {
   "cell_type": "code",
   "execution_count": null,
   "metadata": {},
   "outputs": [],
   "source": [
    "# %%bash\n",
    "# apt-get -q -y install bowtie"
   ]
  },
  {
   "cell_type": "code",
   "execution_count": 8,
   "metadata": {},
   "outputs": [
    {
     "data": {
      "text/plain": [
       "[gRNA-1(CGCAATACCACCCGTCAGAGTGG|AgamP4_2R:48714561-48714584|-|),\n",
       " gRNA-2(TTATCATCCACTCTGACGGGTGG|AgamP4_2R:48714554-48714577|+|),\n",
       " gRNA-3(TCTGAACATGTTTGATGGCGTGG|AgamP4_2R:48714589-48714612|-|),\n",
       " gRNA-4(CATAATCTGAACATGTTTGATGG|AgamP4_2R:48714594-48714617|-|)]"
      ]
     },
     "execution_count": 8,
     "metadata": {},
     "output_type": "execute_result"
    }
   ],
   "source": [
    "from pyfaidx import Sequence\n",
    "from guido.guides import Guide\n",
    "from guido.locus import Locus\n",
    "\n",
    "# seq = \"GCCGACCCATTCTGCTGCCCTTCTGTACCGTGGTGCGGCTCTCTCGCTCCACTCCTTAAACACTAGTTTGAACTTATCGGCATCAGTTGCGCACGCGGCTTGATTTAAAATAGCACAGAACTATTGAATTCGTTTCACCAAacacacatacacacacccacatacaAAGATACGGACAGTTACAGTGGTGCGGAAAGTTTATCATCCACTCTGACGGGTGGTATTGCGCAACTCCACGCCATCAAACATGTTCAGATTATGCAATCGTGAGTATTCGTTGACCACCGCTTGACCTGTGTTAAACATAAATGAATGGAAAGGTAAGGCTTTGAAGGTCACTGCTGCTGGCTGACGGAATTCACAAtttggtttttgatgttttggttttttttttGTATCGAATTTTGAAGTCAGTGAACGTGGCATAACACCATATGCCGCTACCTTCAAGATGCAGATACTCCTAACTTCTCGTGTCTGAGCTAGCTAA\"\n",
    "seq = \"TTATCATCCACTCTGACGGGTGGTATTGCGCAACTCCACGCCATCAAACATGTTCAGATTATGCAATCGTGAGTATTCGTTGACCACCGCTTGACCTGTGT\"\n",
    "l = Locus(sequence=seq, name='AgamP4_2R', start=48714554, end=48714654)\n",
    "locus.find_guides()\n",
    "locus.guides"
   ]
  },
  {
   "cell_type": "code",
   "execution_count": 26,
   "metadata": {},
   "outputs": [
    {
     "name": "stdout",
     "output_type": "stream",
     "text": [
      "Indexing genome annotation.\n",
      "Building Bowtie index\n",
      "Done: /Users/nace/imperial/guide_tool/guido/tests/data/AgamP4.12\n",
      "AgamP4.12 genome data can now be used by Guido: /Users/nace/imperial/guide_tool/guido/tests/data/AgamP4.12.guido\n"
     ]
    }
   ],
   "source": [
    "from guido.genome import Genome, load_genome_from_file\n",
    "\n",
    "G = Genome('AgamP4.12', genome_file_abspath='tests/data/AgamP4.fa', annotation_file_abspath='tests/data/AgamP4.12.gtf')\n",
    "G.build(3,bowtie_path='bin/bowtie/')"
   ]
  },
  {
   "cell_type": "code",
   "execution_count": 3,
   "metadata": {},
   "outputs": [
    {
     "data": {
      "text/plain": [
       "{'genome_name': 'AgamP4.12',\n",
       " '_bowtie_ignore': False,\n",
       " 'bowtie_index': PosixPath('/Users/nace/imperial/guide_tool/guido/tests/data/AgamP4.12'),\n",
       " 'genome_file_abspath': PosixPath('/Users/nace/imperial/guide_tool/guido/tests/data/AgamP4.fa'),\n",
       " 'annotation_file_abspath': PosixPath('/Users/nace/imperial/guide_tool/guido/tests/data/AgamP4.12.gtf'),\n",
       " 'annotation_sorted_gz_file': PosixPath('/Users/nace/imperial/guide_tool/guido/tests/data/AgamP4.12.gtf.gz'),\n",
       " 'tbi_file': PosixPath('/Users/nace/imperial/guide_tool/guido/tests/data/AgamP4.12.gtf.tbi'),\n",
       " 'fai_file': PosixPath('/Users/nace/imperial/guide_tool/guido/tests/data/AgamP4.fa.fai')}"
      ]
     },
     "execution_count": 3,
     "metadata": {},
     "output_type": "execute_result"
    }
   ],
   "source": [
    "G.__dict__"
   ]
  },
  {
   "cell_type": "code",
   "execution_count": 3,
   "metadata": {},
   "outputs": [],
   "source": [
    "import zarr\n",
    "import numpy as np\n",
    "import pandas as pd\n",
    "import allel\n",
    "import h5py\n",
    "import itertools\n",
    "import multiprocessing as mp\n",
    "from functools import partial\n",
    "# from ete3 import Tree\n",
    "import dask.array as da\n",
    "import dask.dataframe as dd\n",
    "import scipy\n",
    "\n",
    "import h5py\n",
    "import numpy as np\n",
    "\n",
    "from guido.genome import Genome, load_genome_from_file\n",
    "from guido.locus import locus_from_coordinates, locus_from_gene\n",
    "from guido.helpers import guides_to_dataframe\n",
    "\n",
    "# %run /Users/nace/imperial/conservation/_load_zarr_plots.py\n",
    "\n",
    "# 2R:48712946-48716859\n",
    "# chromosome, start, end = \"2R\", 48715300, 48717267\n",
    "chromosome, start, end = \"2R\", 48714553, 48714651\n",
    "AgamP4 = load_genome_from_file(guido_file='tests/data/AgamP4.12.guido')\n",
    "\n",
    "l = locus_from_coordinates(AgamP4, chromosome, start, end)\n",
    "\n",
    "# l = locus_from_gene(genome=AgamP4, gene_name='AGAP011477')\n",
    "l.find_guides(min_flanking_length=0, selected_features={'all'})\n",
    "l.simulate_end_joining()\n",
    "\n",
    "l.find_off_targets(external_genome=None, \n",
    "                core_length=10,\n",
    "                core_mismatches=1,\n",
    "                total_mismatches=4,\n",
    "                bowtie_path='bin/bowtie/')\n",
    "\n",
    "with h5py.File('/Users/nace/imperial/conservation/data/AgamP4_conservation.h5', mode='r+') as data_h5:\n",
    "    snp_density = data_h5[l.chromosome]['snp_density'][0,l.start-1:l.end-1]\n",
    "    phylop =      data_h5[l.chromosome]['phyloP'][0,l.start-1:l.end-1]\n",
    "    cs =          data_h5[l.chromosome]['Cs'][0,l.start-1:l.end-1]\n",
    "\n",
    "z = zarr.open('/Users/nace/imperial/VC_ot/G3.gd.zarr', mode='r')\n",
    "\n",
    "variants = z[l.chromosome][\"variants\"]\n",
    "calldata = z[l.chromosome][\"calldata\"]\n",
    "pos = allel.SortedIndex(variants[\"POS\"])\n",
    "\n",
    "# loc = pos.locate_range(l.start, l.end)\n",
    "# g = allel.GenotypeArray(calldata[\"GT\"][loc])\n",
    "# ac = np.zeros(shape=(l.end-l.start,4))\n",
    "# af = np.zeros(shape=(l.end-l.start,4))\n",
    "# vseq = np.empty(shape=(l.end-l.start,4), dtype=\"<U1\")\n",
    "\n",
    "# ac[pos[loc] - l.start,:] = np.array(g.count_alleles(max_allele=3))\n",
    "# af[pos[loc] - l.start,:] = np.array(g.count_alleles(max_allele=3).to_frequencies())\n",
    "# vseq[pos[loc] - l.start,0] = np.array(variants[\"REF\"][loc])\n",
    "# vseq[pos[loc] - l.start,1:] = np.array(variants[\"ALT\"][loc])\n",
    "\n",
    "# l.add_layer('g3_ac', ac.T[1:,:].sum(axis=0))\n",
    "# l.add_layer('g3_af', af.T[1:,:].sum(axis=0))\n",
    "# # l.add_layer('g3_vseq', vseq)\n",
    "\n",
    "# # l.add_layer('snp_density', np.array(snp_density))\n",
    "# # l.add_layer('phylop', np.array(phylop))\n",
    "l.add_layer('cs', layer_data=np.array(cs))\n",
    "# # l.add_layer('accessibility', np.array(ac))\n",
    "\n",
    "ranks = l.rank_guides(rank_layer_names=['cs', 'mmej_sum_score', 'mmej_of_score', 'ot_sum_score'], is_benefit_layer=[True, True, True, False])\n"
   ]
  },
  {
   "cell_type": "code",
   "execution_count": 7,
   "metadata": {},
   "outputs": [
    {
     "data": {
      "text/html": [
       "<div>\n",
       "<style scoped>\n",
       "    .dataframe tbody tr th:only-of-type {\n",
       "        vertical-align: middle;\n",
       "    }\n",
       "\n",
       "    .dataframe tbody tr th {\n",
       "        vertical-align: top;\n",
       "    }\n",
       "\n",
       "    .dataframe thead th {\n",
       "        text-align: right;\n",
       "    }\n",
       "</style>\n",
       "<table border=\"1\" class=\"dataframe\">\n",
       "  <thead>\n",
       "    <tr style=\"text-align: right;\">\n",
       "      <th></th>\n",
       "      <th>locus_seq</th>\n",
       "      <th>guide_seq</th>\n",
       "      <th>guide_pam</th>\n",
       "      <th>guide_chrom</th>\n",
       "      <th>guide_start</th>\n",
       "      <th>guide_end</th>\n",
       "      <th>guide_strand</th>\n",
       "      <th>relative_cut_pos</th>\n",
       "      <th>absolute_cut_pos</th>\n",
       "      <th>rank_score</th>\n",
       "      <th>rank</th>\n",
       "      <th>id</th>\n",
       "      <th>mmej_patterns</th>\n",
       "      <th>off_targets</th>\n",
       "      <th>_layers</th>\n",
       "      <th>mmej_sum_score</th>\n",
       "      <th>mmej_oof_score</th>\n",
       "      <th>ot_sum_score</th>\n",
       "      <th>cs</th>\n",
       "    </tr>\n",
       "  </thead>\n",
       "  <tbody>\n",
       "    <tr>\n",
       "      <th>0</th>\n",
       "      <td>TTTATCATCCACTCTGACGGGTGGTATTGCGCAACTCCACGCCATC...</td>\n",
       "      <td>CGCAATACCACCCGTCAGAGTGG</td>\n",
       "      <td>TGG</td>\n",
       "      <td>2R</td>\n",
       "      <td>48714561</td>\n",
       "      <td>48714584</td>\n",
       "      <td>-</td>\n",
       "      <td>14</td>\n",
       "      <td>48714567</td>\n",
       "      <td>0.066950</td>\n",
       "      <td>4</td>\n",
       "      <td>gRNA-1</td>\n",
       "      <td>[{'left': 'TTTATCATCC----', 'left_seq': 'TTTAT...</td>\n",
       "      <td>[{'ix': 0, 'mismatches': {21: 'A', 18: 'A', 9:...</td>\n",
       "      <td>{'mmej_sum_score': 809.8999999999999, 'mmej_oo...</td>\n",
       "      <td>809.9</td>\n",
       "      <td>72.552167</td>\n",
       "      <td>1</td>\n",
       "      <td>0.446189</td>\n",
       "    </tr>\n",
       "    <tr>\n",
       "      <th>1</th>\n",
       "      <td>TTTATCATCCACTCTGACGGGTGGTATTGCGCAACTCCACGCCATC...</td>\n",
       "      <td>TTATCATCCACTCTGACGGGTGG</td>\n",
       "      <td>TGG</td>\n",
       "      <td>2R</td>\n",
       "      <td>48714554</td>\n",
       "      <td>48714577</td>\n",
       "      <td>+</td>\n",
       "      <td>18</td>\n",
       "      <td>48714571</td>\n",
       "      <td>0.352648</td>\n",
       "      <td>2</td>\n",
       "      <td>gRNA-2</td>\n",
       "      <td>[{'left': 'TTTATCATCCACTC----', 'left_seq': 'T...</td>\n",
       "      <td>[{'ix': 1, 'mismatches': {21: 'G', 17: 'G', 10...</td>\n",
       "      <td>{'mmej_sum_score': 884.0, 'mmej_oof_score': 10...</td>\n",
       "      <td>884.0</td>\n",
       "      <td>100.000000</td>\n",
       "      <td>3</td>\n",
       "      <td>0.482574</td>\n",
       "    </tr>\n",
       "    <tr>\n",
       "      <th>2</th>\n",
       "      <td>TTTATCATCCACTCTGACGGGTGGTATTGCGCAACTCCACGCCATC...</td>\n",
       "      <td>TCTGAACATGTTTGATGGCGTGG</td>\n",
       "      <td>TGG</td>\n",
       "      <td>2R</td>\n",
       "      <td>48714589</td>\n",
       "      <td>48714612</td>\n",
       "      <td>-</td>\n",
       "      <td>42</td>\n",
       "      <td>48714595</td>\n",
       "      <td>0.181072</td>\n",
       "      <td>3</td>\n",
       "      <td>gRNA-3</td>\n",
       "      <td>[{'left': 'TTTATCATCCACTCTGACGGGTGGTATTGCGCAAC...</td>\n",
       "      <td>[{'ix': 2, 'mismatches': {21: 'C', 19: 'G', 6:...</td>\n",
       "      <td>{'mmej_sum_score': 1013.6999999999999, 'mmej_o...</td>\n",
       "      <td>1013.7</td>\n",
       "      <td>62.493834</td>\n",
       "      <td>1</td>\n",
       "      <td>0.560826</td>\n",
       "    </tr>\n",
       "    <tr>\n",
       "      <th>3</th>\n",
       "      <td>TTTATCATCCACTCTGACGGGTGGTATTGCGCAACTCCACGCCATC...</td>\n",
       "      <td>CATAATCTGAACATGTTTGATGG</td>\n",
       "      <td>TGG</td>\n",
       "      <td>2R</td>\n",
       "      <td>48714594</td>\n",
       "      <td>48714617</td>\n",
       "      <td>-</td>\n",
       "      <td>47</td>\n",
       "      <td>48714600</td>\n",
       "      <td>0.893691</td>\n",
       "      <td>1</td>\n",
       "      <td>gRNA-4</td>\n",
       "      <td>[{'left': 'TTTATCATCCACTCTGACGGGTGGTATTGCGCAAC...</td>\n",
       "      <td>[{'ix': 3, 'mismatches': {21: 'A', 8: 'C', 7: ...</td>\n",
       "      <td>{'mmej_sum_score': 1141.3999999999999, 'mmej_o...</td>\n",
       "      <td>1141.4</td>\n",
       "      <td>83.458910</td>\n",
       "      <td>8</td>\n",
       "      <td>0.595581</td>\n",
       "    </tr>\n",
       "  </tbody>\n",
       "</table>\n",
       "</div>"
      ],
      "text/plain": [
       "                                           locus_seq                guide_seq  \\\n",
       "0  TTTATCATCCACTCTGACGGGTGGTATTGCGCAACTCCACGCCATC...  CGCAATACCACCCGTCAGAGTGG   \n",
       "1  TTTATCATCCACTCTGACGGGTGGTATTGCGCAACTCCACGCCATC...  TTATCATCCACTCTGACGGGTGG   \n",
       "2  TTTATCATCCACTCTGACGGGTGGTATTGCGCAACTCCACGCCATC...  TCTGAACATGTTTGATGGCGTGG   \n",
       "3  TTTATCATCCACTCTGACGGGTGGTATTGCGCAACTCCACGCCATC...  CATAATCTGAACATGTTTGATGG   \n",
       "\n",
       "  guide_pam guide_chrom  guide_start  guide_end guide_strand  \\\n",
       "0       TGG          2R     48714561   48714584            -   \n",
       "1       TGG          2R     48714554   48714577            +   \n",
       "2       TGG          2R     48714589   48714612            -   \n",
       "3       TGG          2R     48714594   48714617            -   \n",
       "\n",
       "   relative_cut_pos  absolute_cut_pos  rank_score  rank      id  \\\n",
       "0                14          48714567    0.066950     4  gRNA-1   \n",
       "1                18          48714571    0.352648     2  gRNA-2   \n",
       "2                42          48714595    0.181072     3  gRNA-3   \n",
       "3                47          48714600    0.893691     1  gRNA-4   \n",
       "\n",
       "                                       mmej_patterns  \\\n",
       "0  [{'left': 'TTTATCATCC----', 'left_seq': 'TTTAT...   \n",
       "1  [{'left': 'TTTATCATCCACTC----', 'left_seq': 'T...   \n",
       "2  [{'left': 'TTTATCATCCACTCTGACGGGTGGTATTGCGCAAC...   \n",
       "3  [{'left': 'TTTATCATCCACTCTGACGGGTGGTATTGCGCAAC...   \n",
       "\n",
       "                                         off_targets  \\\n",
       "0  [{'ix': 0, 'mismatches': {21: 'A', 18: 'A', 9:...   \n",
       "1  [{'ix': 1, 'mismatches': {21: 'G', 17: 'G', 10...   \n",
       "2  [{'ix': 2, 'mismatches': {21: 'C', 19: 'G', 6:...   \n",
       "3  [{'ix': 3, 'mismatches': {21: 'A', 8: 'C', 7: ...   \n",
       "\n",
       "                                             _layers  mmej_sum_score  \\\n",
       "0  {'mmej_sum_score': 809.8999999999999, 'mmej_oo...           809.9   \n",
       "1  {'mmej_sum_score': 884.0, 'mmej_oof_score': 10...           884.0   \n",
       "2  {'mmej_sum_score': 1013.6999999999999, 'mmej_o...          1013.7   \n",
       "3  {'mmej_sum_score': 1141.3999999999999, 'mmej_o...          1141.4   \n",
       "\n",
       "   mmej_oof_score  ot_sum_score        cs  \n",
       "0       72.552167             1  0.446189  \n",
       "1      100.000000             3  0.482574  \n",
       "2       62.493834             1  0.560826  \n",
       "3       83.458910             8  0.595581  "
      ]
     },
     "execution_count": 7,
     "metadata": {},
     "output_type": "execute_result"
    }
   ],
   "source": [
    "pd.DataFrame([g.__dict__ for g in l.guides])"
   ]
  },
  {
   "cell_type": "code",
   "execution_count": 8,
   "metadata": {},
   "outputs": [],
   "source": [
    "import numpy as np\n",
    "\n",
    "guides = []\n",
    "\n",
    "for g in l.guides:\n",
    "    g = g.__dict__\n",
    "    for lk, lv in g['_layers'].items():\n",
    "        if isinstance(lv, np.ndarray):\n",
    "            g[lk] = lv.mean()\n",
    "        else:\n",
    "            g[lk] = lv\n",
    "    guides.append(g)\n"
   ]
  },
  {
   "cell_type": "code",
   "execution_count": 10,
   "metadata": {},
   "outputs": [],
   "source": [
    "gdf = pd.DataFrame(guides)\n",
    "\n",
    "gdf = gdf.drop(['mmej_patterns', 'off_targets', '_layers'], axis=1)\n",
    "gdf\n",
    "gdf.to_csv('/Users/nace/imperial/guides/results/silvia_dsx_e5.csv')"
   ]
  },
  {
   "cell_type": "code",
   "execution_count": 18,
   "metadata": {},
   "outputs": [],
   "source": [
    "import zarr\n",
    "import numpy as np\n",
    "import pandas as pd\n",
    "import allel\n",
    "\n",
    "z = zarr.open('/Users/nace/imperial/ignacio_vc/dataset/AgamP4_2L.zarr', mode='r')\n",
    "G = allel.Genotypes(z['call_genotype'])\n",
    "pos = allel.SortedIndex(z['variant_position'])\n",
    "\n"
   ]
  },
  {
   "cell_type": "code",
   "execution_count": 4,
   "metadata": {},
   "outputs": [
    {
     "name": "stdout",
     "output_type": "stream",
     "text": [
      "gRNA-1(AACGACGACGTTAAGCGTGCCGG|2L:44994108-44994131|+|)\n",
      "gRNA-2(GCTTCTACACTCGCTTCTTCCGG|2L:44994127-44994150|-|)\n",
      "gRNA-3(AGAAGCGAGTGTAGAAGCGCAGG|2L:44994132-44994155|+|)\n",
      "gRNA-4(CATGACGAACACAGCACAGACGG|2L:44994165-44994188|+|)\n",
      "gRNA-5(GTACTTGTAGTAGTAGTGATCGG|2L:44994190-44994213|-|)\n",
      "gRNA-6(CTCAAGCTGAGGTGTGGTAGTGG|2L:44994218-44994241|-|)\n",
      "gRNA-7(AGATAGCTCAAGCTGAGGTGTGG|2L:44994224-44994247|-|)\n",
      "gRNA-8(GCAGTAGATAGCTCAAGCTGAGG|2L:44994229-44994252|-|)\n",
      "gRNA-9(TACTGCTGAAGAAAGCACAACGG|2L:44994246-44994269|+|)\n",
      "gRNA-10(TGCTGAAGAAAGCACAACGGAGG|2L:44994249-44994272|+|)\n"
     ]
    }
   ],
   "source": [
    "for g in l.guides[:10]:\n",
    "    print(g)\n"
   ]
  },
  {
   "cell_type": "code",
   "execution_count": 2,
   "metadata": {},
   "outputs": [],
   "source": [
    "from guido.locus import _prepare_annotation\n",
    "\n",
    "x = _prepare_annotation(AgamP4.annotation_file_abspath)"
   ]
  },
  {
   "cell_type": "code",
   "execution_count": 4,
   "metadata": {},
   "outputs": [
    {
     "data": {
      "text/html": [
       "<div>\n",
       "<style scoped>\n",
       "    .dataframe tbody tr th:only-of-type {\n",
       "        vertical-align: middle;\n",
       "    }\n",
       "\n",
       "    .dataframe tbody tr th {\n",
       "        vertical-align: top;\n",
       "    }\n",
       "\n",
       "    .dataframe thead th {\n",
       "        text-align: right;\n",
       "    }\n",
       "</style>\n",
       "<table border=\"1\" class=\"dataframe\">\n",
       "  <thead>\n",
       "    <tr style=\"text-align: right;\">\n",
       "      <th></th>\n",
       "      <th>Chromosome</th>\n",
       "      <th>Source</th>\n",
       "      <th>Feature</th>\n",
       "      <th>Start</th>\n",
       "      <th>End</th>\n",
       "      <th>Score</th>\n",
       "      <th>Strand</th>\n",
       "      <th>Frame</th>\n",
       "      <th>gene_id</th>\n",
       "      <th>transcript_id</th>\n",
       "      <th>exon_number</th>\n",
       "    </tr>\n",
       "  </thead>\n",
       "  <tbody>\n",
       "    <tr>\n",
       "      <th>0</th>\n",
       "      <td>2L</td>\n",
       "      <td>VectorBase</td>\n",
       "      <td>gene</td>\n",
       "      <td>203778</td>\n",
       "      <td>205293</td>\n",
       "      <td>.</td>\n",
       "      <td>+</td>\n",
       "      <td>.</td>\n",
       "      <td>AGAP004678</td>\n",
       "      <td>NaN</td>\n",
       "      <td>NaN</td>\n",
       "    </tr>\n",
       "    <tr>\n",
       "      <th>1</th>\n",
       "      <td>2L</td>\n",
       "      <td>VectorBase</td>\n",
       "      <td>transcript</td>\n",
       "      <td>203778</td>\n",
       "      <td>205293</td>\n",
       "      <td>.</td>\n",
       "      <td>+</td>\n",
       "      <td>.</td>\n",
       "      <td>AGAP004678</td>\n",
       "      <td>AGAP004678-RA</td>\n",
       "      <td>NaN</td>\n",
       "    </tr>\n",
       "    <tr>\n",
       "      <th>2</th>\n",
       "      <td>2L</td>\n",
       "      <td>VectorBase</td>\n",
       "      <td>exon</td>\n",
       "      <td>203778</td>\n",
       "      <td>203924</td>\n",
       "      <td>.</td>\n",
       "      <td>+</td>\n",
       "      <td>.</td>\n",
       "      <td>AGAP004678</td>\n",
       "      <td>AGAP004678-RA</td>\n",
       "      <td>1</td>\n",
       "    </tr>\n",
       "    <tr>\n",
       "      <th>3</th>\n",
       "      <td>2L</td>\n",
       "      <td>VectorBase</td>\n",
       "      <td>CDS</td>\n",
       "      <td>203865</td>\n",
       "      <td>203924</td>\n",
       "      <td>.</td>\n",
       "      <td>+</td>\n",
       "      <td>0</td>\n",
       "      <td>AGAP004678</td>\n",
       "      <td>AGAP004678-RA</td>\n",
       "      <td>1</td>\n",
       "    </tr>\n",
       "    <tr>\n",
       "      <th>4</th>\n",
       "      <td>2L</td>\n",
       "      <td>VectorBase</td>\n",
       "      <td>start_codon</td>\n",
       "      <td>203865</td>\n",
       "      <td>203868</td>\n",
       "      <td>.</td>\n",
       "      <td>+</td>\n",
       "      <td>0</td>\n",
       "      <td>AGAP004678</td>\n",
       "      <td>AGAP004678-RA</td>\n",
       "      <td>1</td>\n",
       "    </tr>\n",
       "    <tr>\n",
       "      <th>...</th>\n",
       "      <td>...</td>\n",
       "      <td>...</td>\n",
       "      <td>...</td>\n",
       "      <td>...</td>\n",
       "      <td>...</td>\n",
       "      <td>...</td>\n",
       "      <td>...</td>\n",
       "      <td>...</td>\n",
       "      <td>...</td>\n",
       "      <td>...</td>\n",
       "      <td>...</td>\n",
       "    </tr>\n",
       "    <tr>\n",
       "      <th>225398</th>\n",
       "      <td>Y_unplaced</td>\n",
       "      <td>VectorBase</td>\n",
       "      <td>CDS</td>\n",
       "      <td>26422</td>\n",
       "      <td>26563</td>\n",
       "      <td>.</td>\n",
       "      <td>-</td>\n",
       "      <td>0</td>\n",
       "      <td>AGAP029221</td>\n",
       "      <td>AGAP029221-RA</td>\n",
       "      <td>3</td>\n",
       "    </tr>\n",
       "    <tr>\n",
       "      <th>225399</th>\n",
       "      <td>Y_unplaced</td>\n",
       "      <td>VectorBase</td>\n",
       "      <td>stop_codon</td>\n",
       "      <td>26419</td>\n",
       "      <td>26422</td>\n",
       "      <td>.</td>\n",
       "      <td>-</td>\n",
       "      <td>0</td>\n",
       "      <td>AGAP029221</td>\n",
       "      <td>AGAP029221-RA</td>\n",
       "      <td>3</td>\n",
       "    </tr>\n",
       "    <tr>\n",
       "      <th>225400</th>\n",
       "      <td>Y_unplaced</td>\n",
       "      <td>VectorBase</td>\n",
       "      <td>five_prime_utr</td>\n",
       "      <td>27020</td>\n",
       "      <td>27106</td>\n",
       "      <td>.</td>\n",
       "      <td>-</td>\n",
       "      <td>.</td>\n",
       "      <td>AGAP029221</td>\n",
       "      <td>AGAP029221-RA</td>\n",
       "      <td>NaN</td>\n",
       "    </tr>\n",
       "    <tr>\n",
       "      <th>225401</th>\n",
       "      <td>Y_unplaced</td>\n",
       "      <td>VectorBase</td>\n",
       "      <td>five_prime_utr</td>\n",
       "      <td>26752</td>\n",
       "      <td>26932</td>\n",
       "      <td>.</td>\n",
       "      <td>-</td>\n",
       "      <td>.</td>\n",
       "      <td>AGAP029221</td>\n",
       "      <td>AGAP029221-RA</td>\n",
       "      <td>NaN</td>\n",
       "    </tr>\n",
       "    <tr>\n",
       "      <th>225402</th>\n",
       "      <td>Y_unplaced</td>\n",
       "      <td>VectorBase</td>\n",
       "      <td>three_prime_utr</td>\n",
       "      <td>26263</td>\n",
       "      <td>26419</td>\n",
       "      <td>.</td>\n",
       "      <td>-</td>\n",
       "      <td>.</td>\n",
       "      <td>AGAP029221</td>\n",
       "      <td>AGAP029221-RA</td>\n",
       "      <td>NaN</td>\n",
       "    </tr>\n",
       "  </tbody>\n",
       "</table>\n",
       "<p>225403 rows × 11 columns</p>\n",
       "</div>"
      ],
      "text/plain": [
       "+--------------+------------+-----------------+-----------+-------+\n",
       "| Chromosome   | Source     | Feature         | Start     | +7    |\n",
       "| (category)   | (object)   | (category)      | (int32)   | ...   |\n",
       "|--------------+------------+-----------------+-----------+-------|\n",
       "| 2L           | VectorBase | gene            | 203778    | ...   |\n",
       "| 2L           | VectorBase | transcript      | 203778    | ...   |\n",
       "| 2L           | VectorBase | exon            | 203778    | ...   |\n",
       "| 2L           | VectorBase | CDS             | 203865    | ...   |\n",
       "| ...          | ...        | ...             | ...       | ...   |\n",
       "| Y_unplaced   | VectorBase | stop_codon      | 26419     | ...   |\n",
       "| Y_unplaced   | VectorBase | five_prime_utr  | 27020     | ...   |\n",
       "| Y_unplaced   | VectorBase | five_prime_utr  | 26752     | ...   |\n",
       "| Y_unplaced   | VectorBase | three_prime_utr | 26263     | ...   |\n",
       "+--------------+------------+-----------------+-----------+-------+\n",
       "Stranded PyRanges object has 225,403 rows and 11 columns from 8 chromosomes.\n",
       "For printing, the PyRanges was sorted on Chromosome and Strand.\n",
       "7 hidden columns: End, Score, Strand, Frame, gene_id, transcript_id, exon_number"
      ]
     },
     "execution_count": 4,
     "metadata": {},
     "output_type": "execute_result"
    }
   ],
   "source": [
    "# start = l.start\n",
    "# end = l.end\n",
    "# chromosome = l.chromosome\n",
    "\n",
    "chromosome, start, end = \"2L\", 44994091, 44994571\n",
    "\n",
    "x\n",
    "# x.query(\n",
    "#         f\"(Chromosome == '{chromosome}') &  \\\n",
    "#         (((Start >= {start - 1}) & (Start <= {end + 1})) | \\\n",
    "#         ((End >= {start - 1}) & (End <= {end + 1})))\"\n",
    "# )"
   ]
  },
  {
   "cell_type": "code",
   "execution_count": 17,
   "metadata": {},
   "outputs": [],
   "source": [
    "import pyranges\n",
    "\n",
    "x = pyranges.read_gtf(AgamP4.annotation_file_abspath, as_df=False)\n",
    "a = x.intersect(pyranges.PyRanges(chromosomes=[chromosome], starts=[start], ends=[end]))\n",
    "\n",
    "a.df.rename(columns={\"gene_id\": \"ID\", \"exon_number\": \"Exon\"}, inplace=True)"
   ]
  },
  {
   "cell_type": "code",
   "execution_count": 9,
   "metadata": {},
   "outputs": [
    {
     "data": {
      "text/plain": [
       "array([0.6768356 , 0.6768356 , 0.18866222, 0.28695124, 0.25984788,\n",
       "       0.6791203 , 0.598631  , 0.6795911 , 0.18929903, 0.6791203 ,\n",
       "       0.6795911 , 0.1998153 , 0.2887192 , 0.26129276, 0.2893202 ,\n",
       "       0.6795911 , 0.2701325 , 0.1460883 , 0.26332432, 0.5969937 ,\n",
       "       0.30364934, 0.68419427, 0.684738  , 0.15354982], dtype=float32)"
      ]
     },
     "execution_count": 9,
     "metadata": {},
     "output_type": "execute_result"
    }
   ],
   "source": [
    "l.layer('cs')[l.guide(0).guide_start - l.start:l.guide(0).guide_start - l.start + 24]\n",
    "\n",
    "# l.guide(0).guide_start - l.start"
   ]
  },
  {
   "cell_type": "code",
   "execution_count": 4,
   "metadata": {},
   "outputs": [
    {
     "data": {
      "text/plain": [
       "1013.6999999999999"
      ]
     },
     "execution_count": 4,
     "metadata": {},
     "output_type": "execute_result"
    }
   ],
   "source": [
    "l.guide(1).layer('mmej_sum_score')"
   ]
  },
  {
   "cell_type": "code",
   "execution_count": 19,
   "metadata": {},
   "outputs": [
    {
     "data": {
      "text/plain": [
       "3"
      ]
     },
     "execution_count": 19,
     "metadata": {},
     "output_type": "execute_result"
    }
   ],
   "source": [
    "a = np.array([1, 2, 3])\n",
    "\n",
    "funct = np.max\n",
    "\n",
    "funct(a)"
   ]
  },
  {
   "cell_type": "code",
   "execution_count": 10,
   "metadata": {},
   "outputs": [
    {
     "data": {
      "text/plain": [
       "(2, 3)"
      ]
     },
     "execution_count": 10,
     "metadata": {},
     "output_type": "execute_result"
    }
   ],
   "source": [
    "np.array([[1, 2, 0], [3, 4, 0]]).shape"
   ]
  },
  {
   "cell_type": "code",
   "execution_count": 2,
   "metadata": {},
   "outputs": [],
   "source": [
    "\n",
    "# accessibility = h5py.File('/Users/nace/imperial/conservation/data/accessibility.h5', mode='r')\n",
    "# ac = accessibility[l.chromosome]['is_accessible'][start-1:end-1]\n",
    "\n",
    "# with h5py.File('/Users/nace/imperial/conservation/data/AgamP4_conservation.h5', mode='r+') as data_h5:\n",
    "#     snp_density = data_h5[l.chromosome]['snp_density'][0,l.start-1:l.end-1]\n",
    "#     phylop =      data_h5[l.chromosome]['phyloP'][0,l.start-1:l.end-1]\n",
    "#     cs =          data_h5[l.chromosome]['Cs'][0,l.start-1:l.end-1]\n",
    "\n",
    "# z = zarr.open('/Users/nace/imperial/VC_ot/G3.gd.zarr', mode='r')\n",
    "\n",
    "# l.add_layer('snp_density', np.array(snp_density))\n",
    "# l.add_layer('phylop', np.array(phylop))\n",
    "# l.add_layer('cs', np.array(cs))\n",
    "# l.add_layer('accessibility', np.array(ac))"
   ]
  },
  {
   "cell_type": "code",
   "execution_count": 33,
   "metadata": {},
   "outputs": [],
   "source": [
    "z = zarr.open('/Users/nace/imperial/ignacio_vc/dataset/AgamP4_2R.zarr', mode='r')\n",
    "\n",
    "l = locus_from_coordinates(AgamP4, '2R', 13241907, 13242018)\n",
    "l.find_guides(min_flanking_length=0)"
   ]
  },
  {
   "cell_type": "code",
   "execution_count": 41,
   "metadata": {},
   "outputs": [],
   "source": [
    "calldata = z[\"call_genotype\"]\n",
    "pos = allel.SortedIndex(z[\"variant_position\"])\n",
    "g = allel.GenotypeArray(z[\"call_genotype\"])\n"
   ]
  },
  {
   "cell_type": "code",
   "execution_count": 42,
   "metadata": {},
   "outputs": [
    {
     "data": {
      "text/html": [
       "<div class=\"allel allel-DisplayAs2D\"><span>&lt;GenotypeArray shape=(1648337, 18, 2) dtype=int8&gt;</span><table><thead><tr><th></th><th style=\"text-align: center\">0</th><th style=\"text-align: center\">1</th><th style=\"text-align: center\">2</th><th style=\"text-align: center\">3</th><th style=\"text-align: center\">4</th><th style=\"text-align: center\">...</th><th style=\"text-align: center\">13</th><th style=\"text-align: center\">14</th><th style=\"text-align: center\">15</th><th style=\"text-align: center\">16</th><th style=\"text-align: center\">17</th></tr></thead><tbody><tr><th style=\"text-align: center; background-color: white; border-right: 1px solid black; \">0</th><td style=\"text-align: center\">0/1</td><td style=\"text-align: center\">0/1</td><td style=\"text-align: center\">./.</td><td style=\"text-align: center\">./.</td><td style=\"text-align: center\">./.</td><td style=\"text-align: center\">...</td><td style=\"text-align: center\">./.</td><td style=\"text-align: center\">./.</td><td style=\"text-align: center\">./.</td><td style=\"text-align: center\">./.</td><td style=\"text-align: center\">./.</td></tr><tr><th style=\"text-align: center; background-color: white; border-right: 1px solid black; \">1</th><td style=\"text-align: center\">1/1</td><td style=\"text-align: center\">1/1</td><td style=\"text-align: center\">./.</td><td style=\"text-align: center\">./.</td><td style=\"text-align: center\">./.</td><td style=\"text-align: center\">...</td><td style=\"text-align: center\">./.</td><td style=\"text-align: center\">./.</td><td style=\"text-align: center\">./.</td><td style=\"text-align: center\">./.</td><td style=\"text-align: center\">./.</td></tr><tr><th style=\"text-align: center; background-color: white; border-right: 1px solid black; \">2</th><td style=\"text-align: center\">./.</td><td style=\"text-align: center\">./.</td><td style=\"text-align: center\">./.</td><td style=\"text-align: center\">./.</td><td style=\"text-align: center\">./.</td><td style=\"text-align: center\">...</td><td style=\"text-align: center\">./.</td><td style=\"text-align: center\">./.</td><td style=\"text-align: center\">./.</td><td style=\"text-align: center\">./.</td><td style=\"text-align: center\">./.</td></tr><tr><th style=\"text-align: center; background-color: white; border-right: 1px solid black; \">...</th><td style=\"text-align: center\" colspan=\"12\">...</td></tr><tr><th style=\"text-align: center; background-color: white; border-right: 1px solid black; \">1648334</th><td style=\"text-align: center\">./.</td><td style=\"text-align: center\">./.</td><td style=\"text-align: center\">./.</td><td style=\"text-align: center\">./.</td><td style=\"text-align: center\">./.</td><td style=\"text-align: center\">...</td><td style=\"text-align: center\">./.</td><td style=\"text-align: center\">./.</td><td style=\"text-align: center\">./.</td><td style=\"text-align: center\">./.</td><td style=\"text-align: center\">1/1</td></tr><tr><th style=\"text-align: center; background-color: white; border-right: 1px solid black; \">1648335</th><td style=\"text-align: center\">./.</td><td style=\"text-align: center\">./.</td><td style=\"text-align: center\">./.</td><td style=\"text-align: center\">./.</td><td style=\"text-align: center\">./.</td><td style=\"text-align: center\">...</td><td style=\"text-align: center\">./.</td><td style=\"text-align: center\">./.</td><td style=\"text-align: center\">./.</td><td style=\"text-align: center\">./.</td><td style=\"text-align: center\">1/1</td></tr><tr><th style=\"text-align: center; background-color: white; border-right: 1px solid black; \">1648336</th><td style=\"text-align: center\">./.</td><td style=\"text-align: center\">./.</td><td style=\"text-align: center\">./.</td><td style=\"text-align: center\">./.</td><td style=\"text-align: center\">./.</td><td style=\"text-align: center\">...</td><td style=\"text-align: center\">./.</td><td style=\"text-align: center\">./.</td><td style=\"text-align: center\">./.</td><td style=\"text-align: center\">./.</td><td style=\"text-align: center\">1/1</td></tr></tbody></table></div>"
      ],
      "text/plain": [
       "<GenotypeArray shape=(1648337, 18, 2) dtype=int8>\n",
       "0/1 0/1 ./. ./. ./. ... ./. ./. ./. ./. ./.\n",
       "1/1 1/1 ./. ./. ./. ... ./. ./. ./. ./. ./.\n",
       "./. ./. ./. ./. ./. ... ./. ./. ./. ./. ./.\n",
       "...\n",
       "./. ./. ./. ./. ./. ... ./. ./. ./. ./. 1/1\n",
       "./. ./. ./. ./. ./. ... ./. ./. ./. ./. 1/1\n",
       "./. ./. ./. ./. ./. ... ./. ./. ./. ./. 1/1"
      ]
     },
     "execution_count": 42,
     "metadata": {},
     "output_type": "execute_result"
    }
   ],
   "source": [
    "def pam_snp_alleles(self, guide, gt):\n",
    "    if guide.strand == \"-\":\n",
    "        pam_snp = [v[\"ac\"] if v[\"pos_rel\"] < 2 else 0 for v in g[\"variants\"]]\n",
    "    else:\n",
    "        pam_snp = [\n",
    "            v[\"ac\"] if v[\"pos_rel\"] > len(v[\"guide_seq\"]) - 2 else 0\n",
    "            for v in g[\"variants\"]\n",
    "        ]\n",
    "\n",
    "    return sum(pam_snp)"
   ]
  },
  {
   "cell_type": "code",
   "execution_count": 43,
   "metadata": {},
   "outputs": [
    {
     "name": "stdout",
     "output_type": "stream",
     "text": [
      "13241934 13241957\n",
      "0/1 0/0 1/1 1/1 1/1 ... ./. ./. ./. ./. ./.\n",
      "\n",
      "13241937 13241960\n",
      "0/1 0/0 1/1 1/1 1/1 ... ./. ./. ./. ./. ./.\n",
      "1/1 1/1 1/1 1/1 1/1 ... ./. ./. ./. ./. ./.\n",
      "\n",
      "13241942 13241965\n",
      "0/1 0/0 1/1 1/1 1/1 ... ./. ./. ./. ./. ./.\n",
      "1/1 1/1 1/1 1/1 1/1 ... ./. ./. ./. ./. ./.\n",
      "\n",
      "13241934 13241957\n",
      "0/1 0/0 1/1 1/1 1/1 ... ./. ./. ./. ./. ./.\n",
      "\n",
      "13241935 13241958\n",
      "0/1 0/0 1/1 1/1 1/1 ... ./. ./. ./. ./. ./.\n",
      "\n",
      "13241947 13241970\n",
      "0/1 0/0 1/1 1/1 1/1 ... ./. ./. ./. ./. ./.\n",
      "1/1 1/1 1/1 1/1 1/1 ... ./. ./. ./. ./. ./.\n",
      "\n",
      "13241947 13241970\n",
      "0/1 0/0 1/1 1/1 1/1 ... ./. ./. ./. ./. ./.\n",
      "1/1 1/1 1/1 1/1 1/1 ... ./. ./. ./. ./. ./.\n",
      "\n",
      "13241948 13241971\n",
      "0/1 0/0 1/1 1/1 1/1 ... ./. ./. ./. ./. ./.\n",
      "1/1 1/1 1/1 1/1 1/1 ... ./. ./. ./. ./. ./.\n",
      "\n",
      "13241962 13241985\n",
      "1/1 1/1 1/1 1/1 1/1 ... ./. ./. ./. ./. ./.\n",
      "1/1 1/1 1/1 1/1 1/1 ... ./. ./. ./. ./. ./.\n",
      "\n",
      "13241985 13242008\n",
      "no var\n",
      "13241990 13242013\n",
      "no var\n",
      "13241991 13242014\n",
      "no var\n"
     ]
    }
   ],
   "source": [
    "guide = l.guide(1)\n",
    "\n",
    "for guide in l.guides:\n",
    "    \n",
    "    print(guide.guide_start, guide.guide_end)\n",
    "    \n",
    "    try:\n",
    "        guide_loc = pos.locate_range(guide.guide_start, guide.guide_end)    \n",
    "        print(g[guide_loc])\n",
    "    except:\n",
    "        print('no var')\n"
   ]
  },
  {
   "cell_type": "code",
   "execution_count": 3,
   "metadata": {},
   "outputs": [
    {
     "name": "stderr",
     "output_type": "stream",
     "text": [
      "/Users/nace/imperial/conservation/_load_zarr_plots.py:176: UserWarning: FixedFormatter should only be used together with FixedLocator\n",
      "  ax.set_xticklabels([humanize.intcomma(int(x)) for x in ax.get_xticks()])\n"
     ]
    },
    {
     "data": {
      "text/plain": [
       "(0.7, 3.5)"
      ]
     },
     "execution_count": 3,
     "metadata": {},
     "output_type": "execute_result"
    },
    {
     "data": {
      "image/png": "[encoded data removed]",
      "text/plain": [
       "<Figure size 1440x432 with 2 Axes>"
      ]
     },
     "metadata": {
      "needs_background": "light"
     },
     "output_type": "display_data"
    }
   ],
   "source": [
    "import matplotlib.pyplot as plt\n",
    "\n",
    "ig, (ax, bx) = plt.subplots(2, figsize=(20, 6))\n",
    "\n",
    "plot_transcripts(geneset_agam, l.chromosome, l.start, l.end, label_codons=False, label_exons=True, ax=ax)\n",
    "\n",
    "bx.hlines(y=1, xmin=l.start, xmax=l.end)\n",
    "for i in l.intervals:\n",
    "    bx.hlines(y=2, xmin=i[0], xmax=i[1])\n",
    "for g in l.guides:\n",
    "    bx.hlines(y=3, xmin=g.guide_start, xmax=g.guide_end, alpha=.3)\n",
    "\n",
    "bx.set_xlim(l.start-100, l.end+100)\n",
    "bx.set_ylim(0.7, 3.5)"
   ]
  },
  {
   "cell_type": "code",
   "execution_count": 5,
   "metadata": {},
   "outputs": [
    {
     "data": {
      "text/plain": [
       "[Guide(CGCAATACCACCCGTCAGAGTGG|2R:48714561-48714584|-|),\n",
       " Guide(TCTGAACATGTTTGATGGCGTGG|2R:48714589-48714612|-|),\n",
       " Guide(CATAATCTGAACATGTTTGATGG|2R:48714594-48714617|-|),\n",
       " Guide(GCACACCAGCGGATCGACGAAGG|2R:48715160-48715183|-|),\n",
       " Guide(ATGTACAAAAAGCACACCAGCGG|2R:48715171-48715194|-|),\n",
       " Guide(TGCTTTTTGTACATCGCCATCGG|2R:48715180-48715203|+|),\n",
       " Guide(GTCATACTAAAGAGCGCCGATGG|2R:48715196-48715219|-|),\n",
       " Guide(TCTTTAGTATGACGTACATCAGG|2R:48715206-48715229|+|),\n",
       " Guide(CTTTAGTATGACGTACATCAGGG|2R:48715207-48715230|+|),\n",
       " Guide(TTTAGTATGACGTACATCAGGGG|2R:48715208-48715231|+|),\n",
       " Guide(ATCAGGGGCATCATCTCCCACGG|2R:48715223-48715246|+|),\n",
       " Guide(TCAGGGGCATCATCTCCCACGGG|2R:48715224-48715247|+|),\n",
       " Guide(GGAGAAACTCGGCTACCCGTGGG|2R:48715239-48715262|-|),\n",
       " Guide(TGGAGAAACTCGGCTACCCGTGG|2R:48715240-48715263|-|),\n",
       " Guide(CAATGGCTGTTGGAGAAACTCGG|2R:48715250-48715273|-|),\n",
       " Guide(GAAGCGAGCCCAATGGCTGTTGG|2R:48715260-48715283|-|),\n",
       " Guide(CGAGTTTCTCCAACAGCCATTGG|2R:48715251-48715274|+|),\n",
       " Guide(GAGTTTCTCCAACAGCCATTGGG|2R:48715252-48715275|+|),\n",
       " Guide(AGCTAGTGAAGCGAGCCCAATGG|2R:48715267-48715290|-|)]"
      ]
     },
     "execution_count": 5,
     "metadata": {},
     "output_type": "execute_result"
    }
   ],
   "source": [
    "l.guides"
   ]
  },
  {
   "cell_type": "code",
   "execution_count": 15,
   "metadata": {},
   "outputs": [
    {
     "data": {
      "text/html": [
       "<div>\n",
       "<style scoped>\n",
       "    .dataframe tbody tr th:only-of-type {\n",
       "        vertical-align: middle;\n",
       "    }\n",
       "\n",
       "    .dataframe tbody tr th {\n",
       "        vertical-align: top;\n",
       "    }\n",
       "\n",
       "    .dataframe thead th {\n",
       "        text-align: right;\n",
       "    }\n",
       "</style>\n",
       "<table border=\"1\" class=\"dataframe\">\n",
       "  <thead>\n",
       "    <tr style=\"text-align: right;\">\n",
       "      <th></th>\n",
       "      <th>Chromosome</th>\n",
       "      <th>Source</th>\n",
       "      <th>Feature</th>\n",
       "      <th>Start</th>\n",
       "      <th>End</th>\n",
       "      <th>Score</th>\n",
       "      <th>Strand</th>\n",
       "      <th>Frame</th>\n",
       "      <th>ID</th>\n",
       "      <th>transcript_id</th>\n",
       "      <th>Exon</th>\n",
       "    </tr>\n",
       "  </thead>\n",
       "  <tbody>\n",
       "    <tr>\n",
       "      <th>106527</th>\n",
       "      <td>2R</td>\n",
       "      <td>VectorBase</td>\n",
       "      <td>exon</td>\n",
       "      <td>48715160</td>\n",
       "      <td>48715295</td>\n",
       "      <td>.</td>\n",
       "      <td>-</td>\n",
       "      <td>.</td>\n",
       "      <td>AGAP004050</td>\n",
       "      <td>AGAP004050-RA</td>\n",
       "      <td>4</td>\n",
       "    </tr>\n",
       "    <tr>\n",
       "      <th>106544</th>\n",
       "      <td>2R</td>\n",
       "      <td>VectorBase</td>\n",
       "      <td>exon</td>\n",
       "      <td>48715160</td>\n",
       "      <td>48715295</td>\n",
       "      <td>.</td>\n",
       "      <td>-</td>\n",
       "      <td>.</td>\n",
       "      <td>AGAP004050</td>\n",
       "      <td>AGAP004050-RB</td>\n",
       "      <td>4</td>\n",
       "    </tr>\n",
       "    <tr>\n",
       "      <th>106546</th>\n",
       "      <td>2R</td>\n",
       "      <td>VectorBase</td>\n",
       "      <td>exon</td>\n",
       "      <td>48712956</td>\n",
       "      <td>48714648</td>\n",
       "      <td>.</td>\n",
       "      <td>-</td>\n",
       "      <td>.</td>\n",
       "      <td>AGAP004050</td>\n",
       "      <td>AGAP004050-RB</td>\n",
       "      <td>5</td>\n",
       "    </tr>\n",
       "    <tr>\n",
       "      <th>106553</th>\n",
       "      <td>2R</td>\n",
       "      <td>VectorBase</td>\n",
       "      <td>three_prime_utr</td>\n",
       "      <td>48712956</td>\n",
       "      <td>48714556</td>\n",
       "      <td>.</td>\n",
       "      <td>-</td>\n",
       "      <td>.</td>\n",
       "      <td>AGAP004050</td>\n",
       "      <td>AGAP004050-RB</td>\n",
       "      <td>NaN</td>\n",
       "    </tr>\n",
       "  </tbody>\n",
       "</table>\n",
       "</div>"
      ],
      "text/plain": [
       "       Chromosome      Source          Feature     Start       End Score  \\\n",
       "106527         2R  VectorBase             exon  48715160  48715295     .   \n",
       "106544         2R  VectorBase             exon  48715160  48715295     .   \n",
       "106546         2R  VectorBase             exon  48712956  48714648     .   \n",
       "106553         2R  VectorBase  three_prime_utr  48712956  48714556     .   \n",
       "\n",
       "       Strand Frame          ID  transcript_id Exon  \n",
       "106527      -     .  AGAP004050  AGAP004050-RA    4  \n",
       "106544      -     .  AGAP004050  AGAP004050-RB    4  \n",
       "106546      -     .  AGAP004050  AGAP004050-RB    5  \n",
       "106553      -     .  AGAP004050  AGAP004050-RB  NaN  "
      ]
     },
     "execution_count": 15,
     "metadata": {},
     "output_type": "execute_result"
    }
   ],
   "source": [
    "features = {'exon', 'three_prime_utr'}\n",
    "\n",
    "l.annotation.query(f\"(Feature in @features) & \\\n",
    "(Chromosome == @l.chromosome) &  \\\n",
    "(((Start >= @l.start) & (Start <= @l.end)) | \\\n",
    "((End >= @l.start) & (End <= @l.end)))\")"
   ]
  },
  {
   "cell_type": "code",
   "execution_count": 12,
   "metadata": {},
   "outputs": [],
   "source": [
    "'''\n",
    "track name=\"ItemRGBDemo\" description=\"Item RGB demonstration\" itemRgb=\"On\" \n",
    "chr7  127471196  127472363  Pos1  0  +  127471196  127472363  255,0,0\n",
    "chr7  127472363  127473530  Pos2  0  +  127472363  127473530  255,0,0\n",
    "chr7  127473530  127474697  Pos3  0  +  127473530  127474697  255,0,0\n",
    "chr7  127474697  127475864  Pos4  0  +  127474697  127475864  255,0,0\n",
    "chr7  127475864  127477031  Neg1  0  -  127475864  127477031  0,0,255\n",
    "'''\n",
    "with open('/Users/nace/imperial/guide_tool/guido_dash/guido_dash/static/data/guides.bed', 'w') as f:\n",
    "    for g in l.guides:\n",
    "        if g.guide_strand == '+': color = '76,201,240'\n",
    "        else: color = '247,37,133'\n",
    "        f.write(f\"{g.guide_chrom}\\t{g.guide_start}\\t{g.guide_end}\\t{g.guide_seq}\\t0\\t{g.guide_strand}\\t{g.guide_start}\\t{g.guide_end}\\t{color}\\n\")"
   ]
  },
  {
   "cell_type": "code",
   "execution_count": 3,
   "metadata": {},
   "outputs": [],
   "source": [
    "import pyranges\n",
    "ann_db = pyranges.read_gtf(\"/Users/nace/imperial/guide_tool/guido/tests/data/AgamP4.12.gtf\", as_df=True)\n",
    "ann_db.rename(columns={\"gene_id\": \"ID\", \"exon_number\": \"Exon\"}, inplace=True)\n",
    "\n",
    "ann_db.to_csv('/Users/nace/imperial/guide_tool/guido_dash/static/AgamP4.12.csv')"
   ]
  },
  {
   "cell_type": "code",
   "execution_count": 4,
   "metadata": {},
   "outputs": [
    {
     "data": {
      "text/plain": [
       "'qgEfBpzLxnbx'"
      ]
     },
     "execution_count": 4,
     "metadata": {},
     "output_type": "execute_result"
    }
   ],
   "source": [
    "import string, random\n",
    "\n",
    "''.join(random.choice(string.ascii_letters) for i in range(12))"
   ]
  },
  {
   "cell_type": "code",
   "execution_count": null,
   "metadata": {},
   "outputs": [],
   "source": [
    "def seq_to_colours(seq):\n",
    "    \n",
    "    colours_dict = {\n",
    "        'A': 'ncl_red', \n",
    "        'C': 'ncl_blue',\n",
    "        'G': 'ncl_orange',\n",
    "        'T': 'ncl_green',\n",
    "        'N': 'ncl_white',\n",
    "        '-': 'ncl_white',\n",
    "    }\n",
    "\n",
    "    sequence = []\n",
    "    for n in seq:\n",
    "        sequence.append() \n",
    "    \n",
    "seq_to_colours('AGCT')"
   ]
  },
  {
   "cell_type": "code",
   "execution_count": 25,
   "metadata": {},
   "outputs": [
    {
     "data": {
      "text/plain": [
       "(2, 2, 4)"
      ]
     },
     "execution_count": 25,
     "metadata": {},
     "output_type": "execute_result"
    }
   ],
   "source": [
    "a = np.array([[[5, 10, -2, -2],\n",
    "              [-1, -84, -2, -2]],\n",
    "    \n",
    "             [[6, 11, -2, -2],\n",
    "              [-1, -85, -2, -2]]])\n",
    "\n",
    "a.shape"
   ]
  },
  {
   "cell_type": "code",
   "execution_count": 26,
   "metadata": {},
   "outputs": [],
   "source": [
    "mask = a[:,:,:]"
   ]
  },
  {
   "cell_type": "code",
   "execution_count": 29,
   "metadata": {},
   "outputs": [
    {
     "data": {
      "text/plain": [
       "array([ True, False,  True, False])"
      ]
     },
     "execution_count": 29,
     "metadata": {},
     "output_type": "execute_result"
    }
   ],
   "source": [
    "a.reshape([-1, 4]).sum(axis=1) > 0"
   ]
  },
  {
   "cell_type": "code",
   "execution_count": null,
   "metadata": {},
   "outputs": [],
   "source": []
  }
 ],
 "metadata": {
  "interpreter": {
   "hash": "a87a2cf4b62d35096e60bddd2080a6d78d3b62191db65bbd53490bcb7dd5734f"
  },
  "kernelspec": {
   "display_name": "Python 3.8.6 64-bit ('wiggle': conda)",
   "name": "python3"
  },
  "language_info": {
   "codemirror_mode": {
    "name": "ipython",
    "version": 3
   },
   "file_extension": ".py",
   "mimetype": "text/x-python",
   "name": "python",
   "nbconvert_exporter": "python",
   "pygments_lexer": "ipython3",
   "version": "3.8.12"
  },
  "orig_nbformat": 4
 },
 "nbformat": 4,
 "nbformat_minor": 2
}
