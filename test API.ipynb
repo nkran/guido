{
 "cells": [
  {
   "cell_type": "code",
   "execution_count": null,
   "source": [
    "# %%bash\n",
    "# apt-get -q -y install bowtie"
   ],
   "outputs": [],
   "metadata": {}
  },
  {
   "cell_type": "code",
   "execution_count": 2,
   "source": [
    "from pyfaidx import Sequence\n",
    "from guido.guides import Guide\n",
    "from guido.locus import Locus\n",
    "\n",
    "# seq = \"GCCGACCCATTCTGCTGCCCTTCTGTACCGTGGTGCGGCTCTCTCGCTCCACTCCTTAAACACTAGTTTGAACTTATCGGCATCAGTTGCGCACGCGGCTTGATTTAAAATAGCACAGAACTATTGAATTCGTTTCACCAAacacacatacacacacccacatacaAAGATACGGACAGTTACAGTGGTGCGGAAAGTTTATCATCCACTCTGACGGGTGGTATTGCGCAACTCCACGCCATCAAACATGTTCAGATTATGCAATCGTGAGTATTCGTTGACCACCGCTTGACCTGTGTTAAACATAAATGAATGGAAAGGTAAGGCTTTGAAGGTCACTGCTGCTGGCTGACGGAATTCACAAtttggtttttgatgttttggttttttttttGTATCGAATTTTGAAGTCAGTGAACGTGGCATAACACCATATGCCGCTACCTTCAAGATGCAGATACTCCTAACTTCTCGTGTCTGAGCTAGCTAA\"\n",
    "seq = \"AAAAAAAAAAAAAAAAAAAAAAAAAAAAAAAAAAAAAAAAAAAAAAAAAAAAAACCAAAAAAAAAAAAAAAAAAAAAAAAAAAAAAAAAAAAAAAAAAAAAAAAAAAAAA\"\n",
    "locus = Locus(sequence=seq, name='Test')\n",
    "locus.find_guides(min_flanking_length=0)\n",
    "locus.guides"
   ],
   "outputs": [
    {
     "output_type": "execute_result",
     "data": {
      "text/plain": [
       "[Guide(TTTTTTTTTTTTTTTTTTTTTGG|Test:55-78|-|)]"
      ]
     },
     "metadata": {},
     "execution_count": 2
    }
   ],
   "metadata": {}
  },
  {
   "cell_type": "code",
   "execution_count": null,
   "source": [
    "from guido.guido import Locus\n",
    "\n",
    "seq = \"GCCGACCCATTCTGCTGCCCTTCTGTACCGTGGTGCGGCTCTCTCGCTCCACTCCTTAAACACTAGTTTGAACTTATCGGCATCAGTTGCGCACGCGGCTTGATTTAAAATAGCACAGAACTATTGAATTCGTTTCACCAAacacacatacacacacccacatacaAAGATACGGACAGTTACAGTGGTGCGGAAAGTTTATCATCCACTCTGACGGGTGGTATTGCGCAACTCCACGCCATCAAACATGTTCAGATTATGCAATCGTGAGTATTCGTTGACCACCGCTTGACCTGTGTTAAACATAAATGAATGGAAAGGTAAGGCTTTGAAGGTCACTGCTGCTGGCTGACGGAATTCACAAtttggtttttgatgttttggttttttttttGTATCGAATTTTGAAGTCAGTGAACGTGGCATAACACCATATGCCGCTACCTTCAAGATGCAGATACTCCTAACTTCTCGTGTCTGAGCTAGCTAA\"\n",
    "locus = Locus(sequence=seq)\n",
    "locus.find_guides(\"NGG\", min_flanking_length=0)\n",
    "locus.simulate_end_joining()\n",
    "locus.find_off_targets()"
   ],
   "outputs": [],
   "metadata": {}
  },
  {
   "cell_type": "code",
   "execution_count": 11,
   "source": [
    "from guido.genome import Genome, load_genome_from_file\n",
    "\n",
    "G = Genome('AgamP4.12', genome_file_abspath='tests/data/AgamP4.fa', annotation_file_abspath='tests/data/AgamP4.12.gtf')\n",
    "G.build(3,bowtie_path='bin/bowtie/')"
   ],
   "outputs": [
    {
     "output_type": "stream",
     "name": "stdout",
     "text": [
      "Indexing genome annotation.\n",
      "Building Bowtie index\n",
      "Done: /Users/nace/imperial/guide_tool/guido/tests/data/AgamP4.12\n",
      "AgamP4.12 genome data can now be used by Guido: /Users/nace/imperial/guide_tool/guido/tests/data/AgamP4.12.guido\n"
     ]
    }
   ],
   "metadata": {}
  },
  {
   "cell_type": "code",
   "execution_count": 12,
   "source": [
    "G.__dict__"
   ],
   "outputs": [
    {
     "output_type": "execute_result",
     "data": {
      "text/plain": [
       "{'genome_name': 'AgamP4.12',\n",
       " '_bowtie_ignore': False,\n",
       " 'bowtie_index': PosixPath('/Users/nace/imperial/guide_tool/guido/tests/data/AgamP4.12'),\n",
       " 'genome_file_abspath': PosixPath('/Users/nace/imperial/guide_tool/guido/tests/data/AgamP4.fa'),\n",
       " 'annotation_file_abspath': PosixPath('/Users/nace/imperial/guide_tool/guido/tests/data/AgamP4.12.gtf'),\n",
       " 'annotation_sorted_gz_file': PosixPath('/Users/nace/imperial/guide_tool/guido/tests/data/AgamP4.12.gtf.gz'),\n",
       " 'tbi_file': PosixPath('/Users/nace/imperial/guide_tool/guido/tests/data/AgamP4.12.gtf.tbi'),\n",
       " 'fai_file': PosixPath('/Users/nace/imperial/guide_tool/guido/tests/data/AgamP4.fa.fai')}"
      ]
     },
     "metadata": {},
     "execution_count": 12
    }
   ],
   "metadata": {}
  },
  {
   "cell_type": "code",
   "execution_count": 1,
   "source": [
    "from guido.genome import Genome, load_genome_from_file\n",
    "from guido.locus import load_from_coordinates, load_from_gene\n",
    "\n",
    "\n",
    "chromosome, start, end = \"2R\", 48714543, 48714653\n",
    "AgamP4 = load_genome_from_file(guido_file='tests/data/AgamP4.12.guido')\n",
    "\n",
    "l = load_from_coordinates(AgamP4, chromosome, start, end)\n",
    "\n",
    "# l = load_from_gene(genome=AgamP4, gene_name='AGAP004050')\n",
    "l.find_guides(min_flanking_length=20, selected_features={'exon'})\n",
    "l.simulate_end_joining()\n",
    "\n",
    "print(len(l.guides))\n",
    "l.find_off_targets(external_genome=None, bowtie_path='bin/bowtie/')\n",
    "# gi = l.guides[4]\n"
   ],
   "outputs": [
    {
     "output_type": "stream",
     "name": "stdout",
     "text": [
      "5\n",
      ">0|2R|48714550|48714573|AAGTTTATCATCCACTCTGACGG\n",
      "AAGTTTATCATCCACTCTGACGG\n",
      ">1|2R|48714551|48714574|AGTTTATCATCCACTCTGACGGG\n",
      "AGTTTATCATCCACTCTGACGGG\n",
      ">2|2R|48714554|48714577|TTATCATCCACTCTGACGGGTGG\n",
      "TTATCATCCACTCTGACGGGTGG\n",
      ">3|2R|48714589|48714612|TCTGAACATGTTTGATGGCGTGG\n",
      "TCTGAACATGTTTGATGGCGTGG\n",
      ">4|2R|48714594|48714617|CATAATCTGAACATGTTTGATGG\n",
      "CATAATCTGAACATGTTTGATGG\n",
      "bin/bowtie/bowtie -p 1 -v 3 --sam --sam-nohead -k 10 -x /Users/nace/imperial/guide_tool/guido/tests/data/AgamP4.12 -f /var/folders/vk/qp7qjq952h19zhsbv1b17vc80000gn/T/guido_a61el__h\n"
     ]
    },
    {
     "output_type": "error",
     "ename": "ValueError",
     "evalue": "too many values to unpack (expected 2)",
     "traceback": [
      "\u001b[0;31m---------------------------------------------------------------------------\u001b[0m",
      "\u001b[0;31mValueError\u001b[0m                                Traceback (most recent call last)",
      "\u001b[0;32m<ipython-input-1-292252205ff1>\u001b[0m in \u001b[0;36m<module>\u001b[0;34m\u001b[0m\n\u001b[1;32m     13\u001b[0m \u001b[0;34m\u001b[0m\u001b[0m\n\u001b[1;32m     14\u001b[0m \u001b[0mprint\u001b[0m\u001b[0;34m(\u001b[0m\u001b[0mlen\u001b[0m\u001b[0;34m(\u001b[0m\u001b[0ml\u001b[0m\u001b[0;34m.\u001b[0m\u001b[0mguides\u001b[0m\u001b[0;34m)\u001b[0m\u001b[0;34m)\u001b[0m\u001b[0;34m\u001b[0m\u001b[0;34m\u001b[0m\u001b[0m\n\u001b[0;32m---> 15\u001b[0;31m \u001b[0ml\u001b[0m\u001b[0;34m.\u001b[0m\u001b[0mfind_off_targets\u001b[0m\u001b[0;34m(\u001b[0m\u001b[0mexternal_genome\u001b[0m\u001b[0;34m=\u001b[0m\u001b[0;32mNone\u001b[0m\u001b[0;34m,\u001b[0m \u001b[0mbowtie_path\u001b[0m\u001b[0;34m=\u001b[0m\u001b[0;34m'bin/bowtie/'\u001b[0m\u001b[0;34m)\u001b[0m\u001b[0;34m\u001b[0m\u001b[0;34m\u001b[0m\u001b[0m\n\u001b[0m\u001b[1;32m     16\u001b[0m \u001b[0;31m# gi = l.guides[4]\u001b[0m\u001b[0;34m\u001b[0m\u001b[0;34m\u001b[0m\u001b[0;34m\u001b[0m\u001b[0m\n",
      "\u001b[0;32m~/imperial/guide_tool/guido/guido/locus.py\u001b[0m in \u001b[0;36mfind_off_targets\u001b[0;34m(self, external_genome, **kwargs)\u001b[0m\n\u001b[1;32m    200\u001b[0m \u001b[0;34m\u001b[0m\u001b[0m\n\u001b[1;32m    201\u001b[0m         \u001b[0;32mif\u001b[0m \u001b[0mindex_path\u001b[0m\u001b[0;34m:\u001b[0m\u001b[0;34m\u001b[0m\u001b[0;34m\u001b[0m\u001b[0m\n\u001b[0;32m--> 202\u001b[0;31m             guides_offtargets, targets = run_bowtie(\n\u001b[0m\u001b[1;32m    203\u001b[0m                 \u001b[0mguides\u001b[0m\u001b[0;34m=\u001b[0m\u001b[0mself\u001b[0m\u001b[0;34m.\u001b[0m\u001b[0mguides\u001b[0m\u001b[0;34m,\u001b[0m \u001b[0mgenome_index_path\u001b[0m\u001b[0;34m=\u001b[0m\u001b[0mindex_path\u001b[0m\u001b[0;34m,\u001b[0m \u001b[0;34m**\u001b[0m\u001b[0mkwargs\u001b[0m\u001b[0;34m\u001b[0m\u001b[0;34m\u001b[0m\u001b[0m\n\u001b[1;32m    204\u001b[0m             )\n",
      "\u001b[0;31mValueError\u001b[0m: too many values to unpack (expected 2)"
     ]
    }
   ],
   "metadata": {}
  },
  {
   "cell_type": "code",
   "execution_count": 4,
   "source": [
    "# CATAATCTGAACATGTTTGATGG\n",
    "ot, targets,out = gi.find_off_targets(genome=AgamP4, bowtie_path='bin/bowtie/')"
   ],
   "outputs": [
    {
     "output_type": "stream",
     "name": "stdout",
     "text": [
      ">0|2R|48714594|48714617|CATAATCTGAACATGTTTGATGG\n",
      "CATAATCTGAACATGTTTGATGG\n",
      "{0: {'offtargets_dict': {'0': 1, '1': 0, '2': 9, '3': 0}, 'offtargets_str': '1|0|9|0', 'offtargets_n': 10}}\n"
     ]
    }
   ],
   "metadata": {}
  },
  {
   "cell_type": "code",
   "execution_count": 5,
   "source": [
    "out"
   ],
   "outputs": [
    {
     "output_type": "execute_result",
     "data": {
      "text/plain": [
       "'0|2R|48714594|48714617|CATAATCTGAACATGTTTGATGG\\t16\\t2R\\t48714595\\t255\\t22M\\t*\\t0\\t0\\tCATCAAACATGTTCAGATTATG\\tIIIIIIIIIIIIIIIIIIIIII\\tXA:i:0\\tMD:Z:22\\tNM:i:0\\tXM:i:10\\n0|2R|48714594|48714617|CATAATCTGAACATGTTTGATGG\\t16\\t3L\\t2729237\\t255\\t22M\\t*\\t0\\t0\\tCATCAAACATGTTCAGATTATG\\tIIIIIIIIIIIIIIIIIIIIII\\tXA:i:2\\tMD:Z:19T1T0\\tNM:i:2\\tXM:i:10\\n0|2R|48714594|48714617|CATAATCTGAACATGTTTGATGG\\t0\\tX\\t23874366\\t255\\t22M\\t*\\t0\\t0\\tCATAATCTGAACATGTTTGATG\\tIIIIIIIIIIIIIIIIIIIIII\\tXA:i:2\\tMD:Z:0T0T20\\tNM:i:2\\tXM:i:10\\n0|2R|48714594|48714617|CATAATCTGAACATGTTTGATGG\\t0\\t3R\\t41835242\\t255\\t22M\\t*\\t0\\t0\\tCATAATCTGAACATGTTTGATG\\tIIIIIIIIIIIIIIIIIIIIII\\tXA:i:2\\tMD:Z:0T0T20\\tNM:i:2\\tXM:i:10\\n0|2R|48714594|48714617|CATAATCTGAACATGTTTGATGG\\t0\\tUNKN\\t8794763\\t255\\t22M\\t*\\t0\\t0\\tCATAATCTGAACATGTTTGATG\\tIIIIIIIIIIIIIIIIIIIIII\\tXA:i:2\\tMD:Z:0T0T20\\tNM:i:2\\tXM:i:10\\n0|2R|48714594|48714617|CATAATCTGAACATGTTTGATGG\\t0\\tUNKN\\t35261830\\t255\\t22M\\t*\\t0\\t0\\tCATAATCTGAACATGTTTGATG\\tIIIIIIIIIIIIIIIIIIIIII\\tXA:i:2\\tMD:Z:0T0T20\\tNM:i:2\\tXM:i:10\\n0|2R|48714594|48714617|CATAATCTGAACATGTTTGATGG\\t0\\t3R\\t52132314\\t255\\t22M\\t*\\t0\\t0\\tCATAATCTGAACATGTTTGATG\\tIIIIIIIIIIIIIIIIIIIIII\\tXA:i:2\\tMD:Z:0T0T20\\tNM:i:2\\tXM:i:10\\n0|2R|48714594|48714617|CATAATCTGAACATGTTTGATGG\\t0\\t3L\\t1474664\\t255\\t22M\\t*\\t0\\t0\\tCATAATCTGAACATGTTTGATG\\tIIIIIIIIIIIIIIIIIIIIII\\tXA:i:2\\tMD:Z:0A1A19\\tNM:i:2\\tXM:i:10\\n0|2R|48714594|48714617|CATAATCTGAACATGTTTGATGG\\t16\\t2R\\t46088814\\t255\\t22M\\t*\\t0\\t0\\tCATCAAACATGTTCAGATTATG\\tIIIIIIIIIIIIIIIIIIIIII\\tXA:i:2\\tMD:Z:19T1A0\\tNM:i:2\\tXM:i:10\\n0|2R|48714594|48714617|CATAATCTGAACATGTTTGATGG\\t16\\t3R\\t10084633\\t255\\t22M\\t*\\t0\\t0\\tCATCAAACATGTTCAGATTATG\\tIIIIIIIIIIIIIIIIIIIIII\\tXA:i:2\\tMD:Z:0A19A1\\tNM:i:2\\tXM:i:10\\n'"
      ]
     },
     "metadata": {},
     "execution_count": 5
    }
   ],
   "metadata": {}
  },
  {
   "cell_type": "code",
   "execution_count": 3,
   "source": [
    "targets"
   ],
   "outputs": [
    {
     "output_type": "execute_result",
     "data": {
      "text/html": [
       "<div>\n",
       "<style scoped>\n",
       "    .dataframe tbody tr th:only-of-type {\n",
       "        vertical-align: middle;\n",
       "    }\n",
       "\n",
       "    .dataframe tbody tr th {\n",
       "        vertical-align: top;\n",
       "    }\n",
       "\n",
       "    .dataframe thead th {\n",
       "        text-align: right;\n",
       "    }\n",
       "</style>\n",
       "<table border=\"1\" class=\"dataframe\">\n",
       "  <thead>\n",
       "    <tr style=\"text-align: right;\">\n",
       "      <th></th>\n",
       "      <th>0</th>\n",
       "      <th>1</th>\n",
       "      <th>2</th>\n",
       "      <th>3</th>\n",
       "      <th>4</th>\n",
       "      <th>5</th>\n",
       "      <th>6</th>\n",
       "      <th>7</th>\n",
       "      <th>8</th>\n",
       "      <th>9</th>\n",
       "      <th>10</th>\n",
       "      <th>11</th>\n",
       "      <th>12</th>\n",
       "      <th>13</th>\n",
       "      <th>id</th>\n",
       "      <th>chrom</th>\n",
       "      <th>start</th>\n",
       "      <th>end</th>\n",
       "      <th>seq</th>\n",
       "      <th>mm</th>\n",
       "    </tr>\n",
       "  </thead>\n",
       "  <tbody>\n",
       "    <tr>\n",
       "      <th>0</th>\n",
       "      <td>0|2R|48714594|48714617|CATAATCTGAACATGTTTGATGG</td>\n",
       "      <td>16</td>\n",
       "      <td>2R</td>\n",
       "      <td>48714595</td>\n",
       "      <td>255</td>\n",
       "      <td>22M</td>\n",
       "      <td>*</td>\n",
       "      <td>0</td>\n",
       "      <td>0</td>\n",
       "      <td>CATCAAACATGTTCAGATTATG</td>\n",
       "      <td>IIIIIIIIIIIIIIIIIIIIII</td>\n",
       "      <td>XA:i:0</td>\n",
       "      <td>MD:Z:22</td>\n",
       "      <td>NM:i:0</td>\n",
       "      <td>0</td>\n",
       "      <td>2R</td>\n",
       "      <td>48714594</td>\n",
       "      <td>48714617</td>\n",
       "      <td>CATAATCTGAACATGTTTGATGG</td>\n",
       "      <td>0</td>\n",
       "    </tr>\n",
       "    <tr>\n",
       "      <th>1</th>\n",
       "      <td>0|2R|48714594|48714617|CATAATCTGAACATGTTTGATGG</td>\n",
       "      <td>16</td>\n",
       "      <td>3L</td>\n",
       "      <td>2729237</td>\n",
       "      <td>255</td>\n",
       "      <td>22M</td>\n",
       "      <td>*</td>\n",
       "      <td>0</td>\n",
       "      <td>0</td>\n",
       "      <td>CATCAAACATGTTCAGATTATG</td>\n",
       "      <td>IIIIIIIIIIIIIIIIIIIIII</td>\n",
       "      <td>XA:i:2</td>\n",
       "      <td>MD:Z:19T1T0</td>\n",
       "      <td>NM:i:2</td>\n",
       "      <td>0</td>\n",
       "      <td>2R</td>\n",
       "      <td>48714594</td>\n",
       "      <td>48714617</td>\n",
       "      <td>CATAATCTGAACATGTTTGATGG</td>\n",
       "      <td>2</td>\n",
       "    </tr>\n",
       "    <tr>\n",
       "      <th>2</th>\n",
       "      <td>0|2R|48714594|48714617|CATAATCTGAACATGTTTGATGG</td>\n",
       "      <td>0</td>\n",
       "      <td>X</td>\n",
       "      <td>23874366</td>\n",
       "      <td>255</td>\n",
       "      <td>22M</td>\n",
       "      <td>*</td>\n",
       "      <td>0</td>\n",
       "      <td>0</td>\n",
       "      <td>CATAATCTGAACATGTTTGATG</td>\n",
       "      <td>IIIIIIIIIIIIIIIIIIIIII</td>\n",
       "      <td>XA:i:2</td>\n",
       "      <td>MD:Z:0T0T20</td>\n",
       "      <td>NM:i:2</td>\n",
       "      <td>0</td>\n",
       "      <td>2R</td>\n",
       "      <td>48714594</td>\n",
       "      <td>48714617</td>\n",
       "      <td>CATAATCTGAACATGTTTGATGG</td>\n",
       "      <td>2</td>\n",
       "    </tr>\n",
       "    <tr>\n",
       "      <th>3</th>\n",
       "      <td>0|2R|48714594|48714617|CATAATCTGAACATGTTTGATGG</td>\n",
       "      <td>0</td>\n",
       "      <td>3R</td>\n",
       "      <td>41835242</td>\n",
       "      <td>255</td>\n",
       "      <td>22M</td>\n",
       "      <td>*</td>\n",
       "      <td>0</td>\n",
       "      <td>0</td>\n",
       "      <td>CATAATCTGAACATGTTTGATG</td>\n",
       "      <td>IIIIIIIIIIIIIIIIIIIIII</td>\n",
       "      <td>XA:i:2</td>\n",
       "      <td>MD:Z:0T0T20</td>\n",
       "      <td>NM:i:2</td>\n",
       "      <td>0</td>\n",
       "      <td>2R</td>\n",
       "      <td>48714594</td>\n",
       "      <td>48714617</td>\n",
       "      <td>CATAATCTGAACATGTTTGATGG</td>\n",
       "      <td>2</td>\n",
       "    </tr>\n",
       "    <tr>\n",
       "      <th>4</th>\n",
       "      <td>0|2R|48714594|48714617|CATAATCTGAACATGTTTGATGG</td>\n",
       "      <td>0</td>\n",
       "      <td>UNKN</td>\n",
       "      <td>8794763</td>\n",
       "      <td>255</td>\n",
       "      <td>22M</td>\n",
       "      <td>*</td>\n",
       "      <td>0</td>\n",
       "      <td>0</td>\n",
       "      <td>CATAATCTGAACATGTTTGATG</td>\n",
       "      <td>IIIIIIIIIIIIIIIIIIIIII</td>\n",
       "      <td>XA:i:2</td>\n",
       "      <td>MD:Z:0T0T20</td>\n",
       "      <td>NM:i:2</td>\n",
       "      <td>0</td>\n",
       "      <td>2R</td>\n",
       "      <td>48714594</td>\n",
       "      <td>48714617</td>\n",
       "      <td>CATAATCTGAACATGTTTGATGG</td>\n",
       "      <td>2</td>\n",
       "    </tr>\n",
       "    <tr>\n",
       "      <th>5</th>\n",
       "      <td>0|2R|48714594|48714617|CATAATCTGAACATGTTTGATGG</td>\n",
       "      <td>0</td>\n",
       "      <td>UNKN</td>\n",
       "      <td>35261830</td>\n",
       "      <td>255</td>\n",
       "      <td>22M</td>\n",
       "      <td>*</td>\n",
       "      <td>0</td>\n",
       "      <td>0</td>\n",
       "      <td>CATAATCTGAACATGTTTGATG</td>\n",
       "      <td>IIIIIIIIIIIIIIIIIIIIII</td>\n",
       "      <td>XA:i:2</td>\n",
       "      <td>MD:Z:0T0T20</td>\n",
       "      <td>NM:i:2</td>\n",
       "      <td>0</td>\n",
       "      <td>2R</td>\n",
       "      <td>48714594</td>\n",
       "      <td>48714617</td>\n",
       "      <td>CATAATCTGAACATGTTTGATGG</td>\n",
       "      <td>2</td>\n",
       "    </tr>\n",
       "    <tr>\n",
       "      <th>6</th>\n",
       "      <td>0|2R|48714594|48714617|CATAATCTGAACATGTTTGATGG</td>\n",
       "      <td>0</td>\n",
       "      <td>3R</td>\n",
       "      <td>52132314</td>\n",
       "      <td>255</td>\n",
       "      <td>22M</td>\n",
       "      <td>*</td>\n",
       "      <td>0</td>\n",
       "      <td>0</td>\n",
       "      <td>CATAATCTGAACATGTTTGATG</td>\n",
       "      <td>IIIIIIIIIIIIIIIIIIIIII</td>\n",
       "      <td>XA:i:2</td>\n",
       "      <td>MD:Z:0T0T20</td>\n",
       "      <td>NM:i:2</td>\n",
       "      <td>0</td>\n",
       "      <td>2R</td>\n",
       "      <td>48714594</td>\n",
       "      <td>48714617</td>\n",
       "      <td>CATAATCTGAACATGTTTGATGG</td>\n",
       "      <td>2</td>\n",
       "    </tr>\n",
       "    <tr>\n",
       "      <th>7</th>\n",
       "      <td>0|2R|48714594|48714617|CATAATCTGAACATGTTTGATGG</td>\n",
       "      <td>0</td>\n",
       "      <td>3L</td>\n",
       "      <td>1474664</td>\n",
       "      <td>255</td>\n",
       "      <td>22M</td>\n",
       "      <td>*</td>\n",
       "      <td>0</td>\n",
       "      <td>0</td>\n",
       "      <td>CATAATCTGAACATGTTTGATG</td>\n",
       "      <td>IIIIIIIIIIIIIIIIIIIIII</td>\n",
       "      <td>XA:i:2</td>\n",
       "      <td>MD:Z:0A1A19</td>\n",
       "      <td>NM:i:2</td>\n",
       "      <td>0</td>\n",
       "      <td>2R</td>\n",
       "      <td>48714594</td>\n",
       "      <td>48714617</td>\n",
       "      <td>CATAATCTGAACATGTTTGATGG</td>\n",
       "      <td>2</td>\n",
       "    </tr>\n",
       "    <tr>\n",
       "      <th>8</th>\n",
       "      <td>0|2R|48714594|48714617|CATAATCTGAACATGTTTGATGG</td>\n",
       "      <td>16</td>\n",
       "      <td>2R</td>\n",
       "      <td>46088814</td>\n",
       "      <td>255</td>\n",
       "      <td>22M</td>\n",
       "      <td>*</td>\n",
       "      <td>0</td>\n",
       "      <td>0</td>\n",
       "      <td>CATCAAACATGTTCAGATTATG</td>\n",
       "      <td>IIIIIIIIIIIIIIIIIIIIII</td>\n",
       "      <td>XA:i:2</td>\n",
       "      <td>MD:Z:19T1A0</td>\n",
       "      <td>NM:i:2</td>\n",
       "      <td>0</td>\n",
       "      <td>2R</td>\n",
       "      <td>48714594</td>\n",
       "      <td>48714617</td>\n",
       "      <td>CATAATCTGAACATGTTTGATGG</td>\n",
       "      <td>2</td>\n",
       "    </tr>\n",
       "    <tr>\n",
       "      <th>9</th>\n",
       "      <td>0|2R|48714594|48714617|CATAATCTGAACATGTTTGATGG</td>\n",
       "      <td>16</td>\n",
       "      <td>3R</td>\n",
       "      <td>10084633</td>\n",
       "      <td>255</td>\n",
       "      <td>22M</td>\n",
       "      <td>*</td>\n",
       "      <td>0</td>\n",
       "      <td>0</td>\n",
       "      <td>CATCAAACATGTTCAGATTATG</td>\n",
       "      <td>IIIIIIIIIIIIIIIIIIIIII</td>\n",
       "      <td>XA:i:2</td>\n",
       "      <td>MD:Z:0A19A1</td>\n",
       "      <td>NM:i:2</td>\n",
       "      <td>0</td>\n",
       "      <td>2R</td>\n",
       "      <td>48714594</td>\n",
       "      <td>48714617</td>\n",
       "      <td>CATAATCTGAACATGTTTGATGG</td>\n",
       "      <td>2</td>\n",
       "    </tr>\n",
       "  </tbody>\n",
       "</table>\n",
       "</div>"
      ],
      "text/plain": [
       "                                                0   1     2         3    4  \\\n",
       "0  0|2R|48714594|48714617|CATAATCTGAACATGTTTGATGG  16    2R  48714595  255   \n",
       "1  0|2R|48714594|48714617|CATAATCTGAACATGTTTGATGG  16    3L   2729237  255   \n",
       "2  0|2R|48714594|48714617|CATAATCTGAACATGTTTGATGG   0     X  23874366  255   \n",
       "3  0|2R|48714594|48714617|CATAATCTGAACATGTTTGATGG   0    3R  41835242  255   \n",
       "4  0|2R|48714594|48714617|CATAATCTGAACATGTTTGATGG   0  UNKN   8794763  255   \n",
       "5  0|2R|48714594|48714617|CATAATCTGAACATGTTTGATGG   0  UNKN  35261830  255   \n",
       "6  0|2R|48714594|48714617|CATAATCTGAACATGTTTGATGG   0    3R  52132314  255   \n",
       "7  0|2R|48714594|48714617|CATAATCTGAACATGTTTGATGG   0    3L   1474664  255   \n",
       "8  0|2R|48714594|48714617|CATAATCTGAACATGTTTGATGG  16    2R  46088814  255   \n",
       "9  0|2R|48714594|48714617|CATAATCTGAACATGTTTGATGG  16    3R  10084633  255   \n",
       "\n",
       "     5  6  7  8                       9                      10      11  \\\n",
       "0  22M  *  0  0  CATCAAACATGTTCAGATTATG  IIIIIIIIIIIIIIIIIIIIII  XA:i:0   \n",
       "1  22M  *  0  0  CATCAAACATGTTCAGATTATG  IIIIIIIIIIIIIIIIIIIIII  XA:i:2   \n",
       "2  22M  *  0  0  CATAATCTGAACATGTTTGATG  IIIIIIIIIIIIIIIIIIIIII  XA:i:2   \n",
       "3  22M  *  0  0  CATAATCTGAACATGTTTGATG  IIIIIIIIIIIIIIIIIIIIII  XA:i:2   \n",
       "4  22M  *  0  0  CATAATCTGAACATGTTTGATG  IIIIIIIIIIIIIIIIIIIIII  XA:i:2   \n",
       "5  22M  *  0  0  CATAATCTGAACATGTTTGATG  IIIIIIIIIIIIIIIIIIIIII  XA:i:2   \n",
       "6  22M  *  0  0  CATAATCTGAACATGTTTGATG  IIIIIIIIIIIIIIIIIIIIII  XA:i:2   \n",
       "7  22M  *  0  0  CATAATCTGAACATGTTTGATG  IIIIIIIIIIIIIIIIIIIIII  XA:i:2   \n",
       "8  22M  *  0  0  CATCAAACATGTTCAGATTATG  IIIIIIIIIIIIIIIIIIIIII  XA:i:2   \n",
       "9  22M  *  0  0  CATCAAACATGTTCAGATTATG  IIIIIIIIIIIIIIIIIIIIII  XA:i:2   \n",
       "\n",
       "            12      13  id chrom     start       end                      seq  \\\n",
       "0      MD:Z:22  NM:i:0   0    2R  48714594  48714617  CATAATCTGAACATGTTTGATGG   \n",
       "1  MD:Z:19T1T0  NM:i:2   0    2R  48714594  48714617  CATAATCTGAACATGTTTGATGG   \n",
       "2  MD:Z:0T0T20  NM:i:2   0    2R  48714594  48714617  CATAATCTGAACATGTTTGATGG   \n",
       "3  MD:Z:0T0T20  NM:i:2   0    2R  48714594  48714617  CATAATCTGAACATGTTTGATGG   \n",
       "4  MD:Z:0T0T20  NM:i:2   0    2R  48714594  48714617  CATAATCTGAACATGTTTGATGG   \n",
       "5  MD:Z:0T0T20  NM:i:2   0    2R  48714594  48714617  CATAATCTGAACATGTTTGATGG   \n",
       "6  MD:Z:0T0T20  NM:i:2   0    2R  48714594  48714617  CATAATCTGAACATGTTTGATGG   \n",
       "7  MD:Z:0A1A19  NM:i:2   0    2R  48714594  48714617  CATAATCTGAACATGTTTGATGG   \n",
       "8  MD:Z:19T1A0  NM:i:2   0    2R  48714594  48714617  CATAATCTGAACATGTTTGATGG   \n",
       "9  MD:Z:0A19A1  NM:i:2   0    2R  48714594  48714617  CATAATCTGAACATGTTTGATGG   \n",
       "\n",
       "  mm  \n",
       "0  0  \n",
       "1  2  \n",
       "2  2  \n",
       "3  2  \n",
       "4  2  \n",
       "5  2  \n",
       "6  2  \n",
       "7  2  \n",
       "8  2  \n",
       "9  2  "
      ]
     },
     "metadata": {},
     "execution_count": 3
    }
   ],
   "metadata": {}
  },
  {
   "cell_type": "code",
   "execution_count": 6,
   "source": [
    "gi.guide_seq"
   ],
   "outputs": [
    {
     "output_type": "execute_result",
     "data": {
      "text/plain": [
       "'CATAATCTGAACATGTTTGATGG'"
      ]
     },
     "metadata": {},
     "execution_count": 6
    }
   ],
   "metadata": {}
  },
  {
   "cell_type": "code",
   "execution_count": 6,
   "source": [
    "for l in out.split('\\n'):\n",
    "    print(l.split('\\t'))"
   ],
   "outputs": [
    {
     "output_type": "stream",
     "name": "stdout",
     "text": [
      "['0|2R|48714594|48714617|CATAATCTGAACATGTTTGATGG', '16', '2R', '48714595', '255', '22M', '*', '0', '0', 'CATCAAACATGTTCAGATTATG', 'IIIIIIIIIIIIIIIIIIIIII', 'XA:i:0', 'MD:Z:22', 'NM:i:0', 'XM:i:10']\n",
      "['0|2R|48714594|48714617|CATAATCTGAACATGTTTGATGG', '16', '3L', '2729237', '255', '22M', '*', '0', '0', 'CATCAAACATGTTCAGATTATG', 'IIIIIIIIIIIIIIIIIIIIII', 'XA:i:2', 'MD:Z:19T1T0', 'NM:i:2', 'XM:i:10']\n",
      "['0|2R|48714594|48714617|CATAATCTGAACATGTTTGATGG', '0', 'X', '23874366', '255', '22M', '*', '0', '0', 'CATAATCTGAACATGTTTGATG', 'IIIIIIIIIIIIIIIIIIIIII', 'XA:i:2', 'MD:Z:0T0T20', 'NM:i:2', 'XM:i:10']\n",
      "['0|2R|48714594|48714617|CATAATCTGAACATGTTTGATGG', '0', '3R', '41835242', '255', '22M', '*', '0', '0', 'CATAATCTGAACATGTTTGATG', 'IIIIIIIIIIIIIIIIIIIIII', 'XA:i:2', 'MD:Z:0T0T20', 'NM:i:2', 'XM:i:10']\n",
      "['0|2R|48714594|48714617|CATAATCTGAACATGTTTGATGG', '0', 'UNKN', '8794763', '255', '22M', '*', '0', '0', 'CATAATCTGAACATGTTTGATG', 'IIIIIIIIIIIIIIIIIIIIII', 'XA:i:2', 'MD:Z:0T0T20', 'NM:i:2', 'XM:i:10']\n",
      "['0|2R|48714594|48714617|CATAATCTGAACATGTTTGATGG', '0', 'UNKN', '35261830', '255', '22M', '*', '0', '0', 'CATAATCTGAACATGTTTGATG', 'IIIIIIIIIIIIIIIIIIIIII', 'XA:i:2', 'MD:Z:0T0T20', 'NM:i:2', 'XM:i:10']\n",
      "['0|2R|48714594|48714617|CATAATCTGAACATGTTTGATGG', '0', '3R', '52132314', '255', '22M', '*', '0', '0', 'CATAATCTGAACATGTTTGATG', 'IIIIIIIIIIIIIIIIIIIIII', 'XA:i:2', 'MD:Z:0T0T20', 'NM:i:2', 'XM:i:10']\n",
      "['0|2R|48714594|48714617|CATAATCTGAACATGTTTGATGG', '0', '3L', '1474664', '255', '22M', '*', '0', '0', 'CATAATCTGAACATGTTTGATG', 'IIIIIIIIIIIIIIIIIIIIII', 'XA:i:2', 'MD:Z:0A1A19', 'NM:i:2', 'XM:i:10']\n",
      "['0|2R|48714594|48714617|CATAATCTGAACATGTTTGATGG', '16', '2R', '46088814', '255', '22M', '*', '0', '0', 'CATCAAACATGTTCAGATTATG', 'IIIIIIIIIIIIIIIIIIIIII', 'XA:i:2', 'MD:Z:19T1A0', 'NM:i:2', 'XM:i:10']\n",
      "['0|2R|48714594|48714617|CATAATCTGAACATGTTTGATGG', '16', '3R', '10084633', '255', '22M', '*', '0', '0', 'CATCAAACATGTTCAGATTATG', 'IIIIIIIIIIIIIIIIIIIIII', 'XA:i:2', 'MD:Z:0A19A1', 'NM:i:2', 'XM:i:10']\n",
      "['']\n"
     ]
    }
   ],
   "metadata": {}
  },
  {
   "cell_type": "code",
   "execution_count": null,
   "source": [
    "CATCAAACATGTTCAGATTATG\n",
    "\n",
    "'0|2R|48714594|48714617|CATAATCTGAACATGTTTGATGG', '16', '2R', '48714595', '255', '22M', '*', '0', '0', \n",
    "\n",
    "\n",
    "CATAATCTGAACATGTTTGATGG\n",
    "'CATCAAACATGTTCAGATTATG', \n",
    "\n",
    "CATAATCTGAACATGTTTGATGG\n",
    "CATAATCTGAACATGTTTGATG"
   ],
   "outputs": [],
   "metadata": {}
  }
 ],
 "metadata": {
  "orig_nbformat": 4,
  "language_info": {
   "name": "python",
   "version": "3.8.6",
   "mimetype": "text/x-python",
   "codemirror_mode": {
    "name": "ipython",
    "version": 3
   },
   "pygments_lexer": "ipython3",
   "nbconvert_exporter": "python",
   "file_extension": ".py"
  },
  "kernelspec": {
   "name": "python3",
   "display_name": "Python 3.8.6 64-bit ('wiggle': conda)"
  },
  "interpreter": {
   "hash": "45938115ed5b319ff24831b2a6fd10aaa1ff751841be888c79745a901bdff920"
  }
 },
 "nbformat": 4,
 "nbformat_minor": 2
}